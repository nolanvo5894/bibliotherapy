{
  "cells": [
    {
      "cell_type": "code",
      "source": [
        "import pandas as pd\n",
        "info_books = pd.read_csv('best_books_df.csv')"
      ],
      "outputs": [],
      "execution_count": 2,
      "metadata": {}
    },
    {
      "cell_type": "code",
      "source": [
        "info_books.shape"
      ],
      "outputs": [
        {
          "output_type": "execute_result",
          "execution_count": 3,
          "data": {
            "text/plain": [
              "(40311, 9)"
            ]
          },
          "metadata": {}
        }
      ],
      "execution_count": 3,
      "metadata": {}
    },
    {
      "cell_type": "code",
      "source": [
        "# function to remove the 'Alternate Cover Edition ...' paragraph at the beginning \n",
        "def clean_cover_isbn(text):\n",
        "  try:\n",
        "    text = text.split('<br />')[2]\n",
        "    return text\n",
        "  except:\n",
        "    return text\n",
        "# function to remove html markings\n",
        "from bs4 import BeautifulSoup\n",
        "def clean_html(text):\n",
        "  try:\n",
        "    soup = BeautifulSoup(text, 'lxml')\n",
        "    clean_text = soup.get_text()\n",
        "    return clean_text\n",
        "  except:\n",
        "    return text\n",
        "# function to remove punctuation\n",
        "import string\n",
        "def clean_punctuations(text):\n",
        "    try:\n",
        "      clean_text = \"\".join([c for c in text if c not in string.punctuation])\n",
        "      return clean_text\n",
        "    except:\n",
        "      return text"
      ],
      "outputs": [],
      "execution_count": 4,
      "metadata": {}
    },
    {
      "cell_type": "code",
      "source": [
        "info_books['description'] = info_books['description'].apply(lambda x: clean_cover_isbn(x))\n",
        "info_books['description'] = info_books['description'].apply(lambda x: clean_html(x))\n",
        "info_books['description'] = info_books['description'].apply(lambda x: clean_punctuations(x))"
      ],
      "outputs": [
        {
          "output_type": "stream",
          "name": "stderr",
          "text": [
            "/Users/volam/anaconda3/lib/python3.7/site-packages/bs4/__init__.py:272: UserWarning: \"b'.'\" looks like a filename, not markup. You should probably open this file and pass the filehandle into Beautiful Soup.\n",
            "  ' Beautiful Soup.' % markup)\n"
          ]
        }
      ],
      "execution_count": 5,
      "metadata": {}
    },
    {
      "cell_type": "code",
      "source": [
        "def check_alphabet(text):\n",
        "    try:\n",
        "        return text[0][0] in 'abcdefghijklmnopqrstuvwxyz'.upper()\n",
        "    except:\n",
        "        return False\n",
        "    \n",
        "info_books['check_alphabet'] = info_books['description'].apply(lambda x: check_alphabet(x))\n",
        "info_books = info_books[info_books['check_alphabet'] == True]"
      ],
      "outputs": [],
      "execution_count": 6,
      "metadata": {}
    },
    {
      "cell_type": "code",
      "source": [
        "def check_alternate(text):\n",
        "    return text.split(' ')[:3] == ['Alternate', 'Cover', 'Edition']\n",
        "\n",
        "info_books['check_alternate'] = info_books['description'].apply(lambda x: check_alternate(x))\n",
        "info_books = info_books[info_books['check_alternate'] == False]"
      ],
      "outputs": [],
      "execution_count": 7,
      "metadata": {}
    },
    {
      "cell_type": "code",
      "source": [
        "import nltk\n",
        "from nltk.tokenize import word_tokenize"
      ],
      "outputs": [],
      "execution_count": 8,
      "metadata": {}
    },
    {
      "cell_type": "code",
      "source": [
        "def get_tokens(text):\n",
        "    return word_tokenize(text)"
      ],
      "outputs": [],
      "execution_count": 9,
      "metadata": {}
    },
    {
      "cell_type": "code",
      "source": [
        "info_books['description'] = info_books['description'].apply(lambda x: get_tokens(x))"
      ],
      "outputs": [],
      "execution_count": 10,
      "metadata": {}
    },
    {
      "cell_type": "code",
      "source": [
        "from nltk.corpus import stopwords\n",
        "# nltk.download('stopwords')\n",
        "stop_words = stopwords.words('english')"
      ],
      "outputs": [],
      "execution_count": 11,
      "metadata": {}
    },
    {
      "cell_type": "code",
      "source": [
        "def clean_stop_words(text):\n",
        "    return [word for word in text if word not in stop_words]"
      ],
      "outputs": [],
      "execution_count": 12,
      "metadata": {}
    },
    {
      "cell_type": "code",
      "source": [
        "info_books['description'] = info_books['description'].apply(lambda x: clean_stop_words(x))"
      ],
      "outputs": [],
      "execution_count": 13,
      "metadata": {}
    },
    {
      "cell_type": "code",
      "source": [
        "info_books.shape"
      ],
      "outputs": [
        {
          "output_type": "execute_result",
          "execution_count": 14,
          "data": {
            "text/plain": [
              "(33769, 11)"
            ]
          },
          "metadata": {}
        }
      ],
      "execution_count": 14,
      "metadata": {}
    },
    {
      "cell_type": "code",
      "source": [
        "from gensim.models.fasttext import FastText\n",
        "model = FastText(min_count = 1)\n",
        "model.build_vocab(sentences = list(info_books['description']))\n",
        "model.train(sentences = list(info_books['description']), total_examples = len(list(info_books['description'])), epochs = 10, alpha = 0.01)"
      ],
      "outputs": [],
      "execution_count": 33,
      "metadata": {}
    },
    {
      "cell_type": "code",
      "source": [
        "from joblib import dump, load\n",
        "dump(model, 'FastText_model.joblib')"
      ],
      "outputs": [
        {
          "output_type": "execute_result",
          "execution_count": 62,
          "data": {
            "text/plain": [
              "['FastText_model.joblib']"
            ]
          },
          "metadata": {}
        }
      ],
      "execution_count": 62,
      "metadata": {}
    },
    {
      "cell_type": "code",
      "source": [
        "import numpy as np\n",
        "def get_vector(text):\n",
        "  vector = np.array([model.wv[word] for word in text]).mean(axis = 0)\n",
        "  return vector"
      ],
      "outputs": [],
      "execution_count": 34,
      "metadata": {}
    },
    {
      "cell_type": "code",
      "source": [
        "info_books['vector_description'] = info_books['description'].apply(get_vector)"
      ],
      "outputs": [],
      "execution_count": 35,
      "metadata": {}
    },
    {
      "cell_type": "code",
      "source": [
        "info_books.reset_index(drop = True, inplace = True)"
      ],
      "outputs": [],
      "execution_count": 36,
      "metadata": {}
    },
    {
      "cell_type": "code",
      "source": [
        "X = list(info_books['vector_description'])\n",
        "X = np.array(X)\n",
        "X.shape"
      ],
      "outputs": [
        {
          "output_type": "execute_result",
          "execution_count": 38,
          "data": {
            "text/plain": [
              "(38178, 100)"
            ]
          },
          "metadata": {}
        }
      ],
      "execution_count": 38,
      "metadata": {}
    },
    {
      "cell_type": "code",
      "source": [
        "from sklearn.cluster import KMeans\n",
        "# n_clusters = [2, 5, 10, 15, 20]\n",
        "# inertia = []\n",
        "# for n in n_clusters:\n",
        "#   book_kmeans = KMeans(n_clusters = n)\n",
        "#   book_kmeans.fit(X)\n",
        "#   inertia.append(book_kmeans.inertia_)\n",
        "\n# plt.plot(n_clusters, inertia)"
      ],
      "outputs": [],
      "execution_count": 39,
      "metadata": {}
    },
    {
      "cell_type": "code",
      "source": [
        "book_kmeans = KMeans(n_clusters = 15, random_state = 10).fit(X)\n",
        "book_kmeans.labels_"
      ],
      "outputs": [
        {
          "output_type": "execute_result",
          "execution_count": 40,
          "data": {
            "text/plain": [
              "array([11,  0,  4, ..., 11,  0, 14], dtype=int32)"
            ]
          },
          "metadata": {}
        }
      ],
      "execution_count": 40,
      "metadata": {}
    },
    {
      "cell_type": "code",
      "source": [
        "dump(book_kmeans, 'book_kmeans.joblib')"
      ],
      "outputs": [
        {
          "output_type": "execute_result",
          "execution_count": 63,
          "data": {
            "text/plain": [
              "['book_kmeans.joblib']"
            ]
          },
          "metadata": {}
        }
      ],
      "execution_count": 63,
      "metadata": {}
    },
    {
      "cell_type": "code",
      "source": [
        "cluster_labels = book_kmeans.labels_"
      ],
      "outputs": [],
      "execution_count": 41,
      "metadata": {}
    },
    {
      "cell_type": "code",
      "source": [
        "for i in range(15):\n",
        "    print(len(cluster_labels[cluster_labels == i]))"
      ],
      "outputs": [
        {
          "output_type": "stream",
          "name": "stdout",
          "text": [
            "6915\n",
            "1449\n",
            "793\n",
            "548\n",
            "5119\n",
            "1806\n",
            "512\n",
            "384\n",
            "390\n",
            "6843\n",
            "477\n",
            "6049\n",
            "4759\n",
            "402\n",
            "1732\n"
          ]
        }
      ],
      "execution_count": 42,
      "metadata": {}
    },
    {
      "cell_type": "code",
      "source": [
        "info_books['cluster'] = pd.Series(book_kmeans.labels_)"
      ],
      "outputs": [],
      "execution_count": 43,
      "metadata": {}
    },
    {
      "cell_type": "code",
      "source": [
        "info_books.to_json('best_books_clustered.json')"
      ],
      "outputs": [],
      "execution_count": 44,
      "metadata": {}
    },
    {
      "cell_type": "code",
      "source": [
        "info_books[info_books['cluster'] == 7]"
      ],
      "outputs": [
        {
          "output_type": "execute_result",
          "execution_count": 45,
          "data": {
            "text/html": [
              "<div>\n",
              "<style scoped>\n",
              "    .dataframe tbody tr th:only-of-type {\n",
              "        vertical-align: middle;\n",
              "    }\n",
              "\n",
              "    .dataframe tbody tr th {\n",
              "        vertical-align: top;\n",
              "    }\n",
              "\n",
              "    .dataframe thead th {\n",
              "        text-align: right;\n",
              "    }\n",
              "</style>\n",
              "<table border=\"1\" class=\"dataframe\">\n",
              "  <thead>\n",
              "    <tr style=\"text-align: right;\">\n",
              "      <th></th>\n",
              "      <th>book_id</th>\n",
              "      <th>title</th>\n",
              "      <th>authors</th>\n",
              "      <th>description</th>\n",
              "      <th>average_rating</th>\n",
              "      <th>rating_dist</th>\n",
              "      <th>ratings_count</th>\n",
              "      <th>publication_date</th>\n",
              "      <th>publisher</th>\n",
              "      <th>check_alphabet</th>\n",
              "      <th>check_alternate</th>\n",
              "      <th>vector_description</th>\n",
              "      <th>cluster</th>\n",
              "    </tr>\n",
              "  </thead>\n",
              "  <tbody>\n",
              "    <tr>\n",
              "      <td>76</td>\n",
              "      <td>252577</td>\n",
              "      <td>Angela's Ashes (Frank McCourt, #1)</td>\n",
              "      <td>[Frank McCourt]</td>\n",
              "      <td>[When, I, look, back, childhood, I, wonder, I,...</td>\n",
              "      <td>4.10</td>\n",
              "      <td>5:201999|4:180103|3:82897|2:21030|1:9366|total...</td>\n",
              "      <td>462989</td>\n",
              "      <td>('10', '3', '2005')</td>\n",
              "      <td>Harper Perennial</td>\n",
              "      <td>True</td>\n",
              "      <td>False</td>\n",
              "      <td>[0.88220376, -0.3371134, 0.08057113, -0.991886...</td>\n",
              "      <td>7</td>\n",
              "    </tr>\n",
              "    <tr>\n",
              "      <td>322</td>\n",
              "      <td>7260188</td>\n",
              "      <td>Mockingjay (The Hunger Games, #3)</td>\n",
              "      <td>[Suzanne Collins]</td>\n",
              "      <td>[I, deadb]</td>\n",
              "      <td>4.03</td>\n",
              "      <td>5:832228|4:695309|3:417670|2:122952|1:34037|to...</td>\n",
              "      <td>1920011</td>\n",
              "      <td>('8', '24', '2010')</td>\n",
              "      <td>Scholastic Press</td>\n",
              "      <td>True</td>\n",
              "      <td>False</td>\n",
              "      <td>[1.560946, -0.27514094, 1.7939416, -2.6298585,...</td>\n",
              "      <td>7</td>\n",
              "    </tr>\n",
              "    <tr>\n",
              "      <td>448</td>\n",
              "      <td>2800905</td>\n",
              "      <td>The Summoning (Darkest Powers, #1)</td>\n",
              "      <td>[Kelley Armstrong]</td>\n",
              "      <td>[All, I, wanted, make, friends, meet, boys, ke...</td>\n",
              "      <td>4.03</td>\n",
              "      <td>5:61153|4:45325|3:29261|2:8259|1:3727|total:14...</td>\n",
              "      <td>142392</td>\n",
              "      <td>('7', '1', '2008')</td>\n",
              "      <td>HarperCollins</td>\n",
              "      <td>True</td>\n",
              "      <td>False</td>\n",
              "      <td>[1.3240815, -0.0726253, 0.9978156, -0.6202323,...</td>\n",
              "      <td>7</td>\n",
              "    </tr>\n",
              "    <tr>\n",
              "      <td>453</td>\n",
              "      <td>20448515</td>\n",
              "      <td>Bared to You (Crossfire, #1)</td>\n",
              "      <td>[Sylvia Day]</td>\n",
              "      <td>[Gideon, Cross, came, life, like, lightning, d...</td>\n",
              "      <td>4.19</td>\n",
              "      <td>5:218189|4:114915|3:61889|2:21443|1:11378|tota...</td>\n",
              "      <td>118200</td>\n",
              "      <td>('2', '4', '2014')</td>\n",
              "      <td>Berkley</td>\n",
              "      <td>True</td>\n",
              "      <td>False</td>\n",
              "      <td>[0.8852619, -0.2095587, 0.20839463, -0.7627259...</td>\n",
              "      <td>7</td>\n",
              "    </tr>\n",
              "    <tr>\n",
              "      <td>678</td>\n",
              "      <td>8835379</td>\n",
              "      <td>Ruby Red (Precious Stone Trilogy, #1)</td>\n",
              "      <td>[Kerstin Gier, Anthea Bell]</td>\n",
              "      <td>[Or, precisely, one, whod, kissed, doppelgange...</td>\n",
              "      <td>4.12</td>\n",
              "      <td>5:40200|4:36481|3:17298|2:3752|1:1297|total:99028</td>\n",
              "      <td>67398</td>\n",
              "      <td>('5', '10', '2011')</td>\n",
              "      <td>Henry Holt</td>\n",
              "      <td>True</td>\n",
              "      <td>False</td>\n",
              "      <td>[1.0657843, -0.13130707, 0.82544035, -0.608945...</td>\n",
              "      <td>7</td>\n",
              "    </tr>\n",
              "    <tr>\n",
              "      <td>...</td>\n",
              "      <td>...</td>\n",
              "      <td>...</td>\n",
              "      <td>...</td>\n",
              "      <td>...</td>\n",
              "      <td>...</td>\n",
              "      <td>...</td>\n",
              "      <td>...</td>\n",
              "      <td>...</td>\n",
              "      <td>...</td>\n",
              "      <td>...</td>\n",
              "      <td>...</td>\n",
              "      <td>...</td>\n",
              "      <td>...</td>\n",
              "    </tr>\n",
              "    <tr>\n",
              "      <td>37423</td>\n",
              "      <td>22324683</td>\n",
              "      <td>Six of Hearts (Hearts, #1)</td>\n",
              "      <td>[L.H. Cosway]</td>\n",
              "      <td>[I, think, triangles, You, think, straight, li...</td>\n",
              "      <td>4.06</td>\n",
              "      <td>5:6192|4:5526|3:2506|2:725|1:448|total:15397</td>\n",
              "      <td>12953</td>\n",
              "      <td>('7', '26', '2014')</td>\n",
              "      <td>CreateSpace</td>\n",
              "      <td>True</td>\n",
              "      <td>False</td>\n",
              "      <td>[1.0196631, -0.03397632, -0.32711458, -1.13529...</td>\n",
              "      <td>7</td>\n",
              "    </tr>\n",
              "    <tr>\n",
              "      <td>37822</td>\n",
              "      <td>18136448</td>\n",
              "      <td>Emerge (Evolve, #1)</td>\n",
              "      <td>[S.E. Hall]</td>\n",
              "      <td>[You, never, without, Laney, never]</td>\n",
              "      <td>4.16</td>\n",
              "      <td>5:4645|4:3842|3:1512|2:410|1:221|total:10630</td>\n",
              "      <td>3565</td>\n",
              "      <td>('5', '15', '2013')</td>\n",
              "      <td>S.E. Hall</td>\n",
              "      <td>True</td>\n",
              "      <td>False</td>\n",
              "      <td>[1.592816, -0.8194143, -0.27133614, -0.7285756...</td>\n",
              "      <td>7</td>\n",
              "    </tr>\n",
              "    <tr>\n",
              "      <td>37953</td>\n",
              "      <td>13635636</td>\n",
              "      <td>Note To Self</td>\n",
              "      <td>[Brian E. Niskala]</td>\n",
              "      <td>[As, manager, I, often, dealt, less, intelligi...</td>\n",
              "      <td>3.45</td>\n",
              "      <td>5:4|4:2|3:1|2:3|1:1|total:11</td>\n",
              "      <td>11</td>\n",
              "      <td>('5', '4', '2012')</td>\n",
              "      <td>CreateSpace</td>\n",
              "      <td>True</td>\n",
              "      <td>False</td>\n",
              "      <td>[0.4747964, 0.027798256, 0.25007316, -0.489035...</td>\n",
              "      <td>7</td>\n",
              "    </tr>\n",
              "    <tr>\n",
              "      <td>37983</td>\n",
              "      <td>6294709</td>\n",
              "      <td>Excuses Begone!: How to Change Lifelong, Self-...</td>\n",
              "      <td>[Wayne W. Dyer]</td>\n",
              "      <td>[If, I, changed, would, create, family, dramas...</td>\n",
              "      <td>4.16</td>\n",
              "      <td>5:3318|4:2243|3:1140|2:319|1:132|total:7152</td>\n",
              "      <td>6521</td>\n",
              "      <td>('5', '26', '2009')</td>\n",
              "      <td>Hay House</td>\n",
              "      <td>True</td>\n",
              "      <td>False</td>\n",
              "      <td>[1.0325136, -0.33124647, 0.6218889, -0.9914143...</td>\n",
              "      <td>7</td>\n",
              "    </tr>\n",
              "    <tr>\n",
              "      <td>38073</td>\n",
              "      <td>35131974</td>\n",
              "      <td>My Roommate's Girl</td>\n",
              "      <td>[Julianna Keyes]</td>\n",
              "      <td>[When, I, moved, Jerry, good, intentions, I, n...</td>\n",
              "      <td>3.55</td>\n",
              "      <td>5:77|4:153|3:135|2:44|1:15|total:424</td>\n",
              "      <td>419</td>\n",
              "      <td>('6', '12', '2017')</td>\n",
              "      <td>Julianna Keyes</td>\n",
              "      <td>True</td>\n",
              "      <td>False</td>\n",
              "      <td>[1.5102557, -0.49688676, 1.1469091, -1.2063562...</td>\n",
              "      <td>7</td>\n",
              "    </tr>\n",
              "  </tbody>\n",
              "</table>\n",
              "<p>384 rows × 13 columns</p>\n",
              "</div>"
            ],
            "text/plain": [
              "        book_id                                              title  \\\n",
              "76       252577                 Angela's Ashes (Frank McCourt, #1)   \n",
              "322     7260188                  Mockingjay (The Hunger Games, #3)   \n",
              "448     2800905                 The Summoning (Darkest Powers, #1)   \n",
              "453    20448515                       Bared to You (Crossfire, #1)   \n",
              "678     8835379              Ruby Red (Precious Stone Trilogy, #1)   \n",
              "...         ...                                                ...   \n",
              "37423  22324683                         Six of Hearts (Hearts, #1)   \n",
              "37822  18136448                                Emerge (Evolve, #1)   \n",
              "37953  13635636                                       Note To Self   \n",
              "37983   6294709  Excuses Begone!: How to Change Lifelong, Self-...   \n",
              "38073  35131974                                 My Roommate's Girl   \n",
              "\n",
              "                           authors  \\\n",
              "76                 [Frank McCourt]   \n",
              "322              [Suzanne Collins]   \n",
              "448             [Kelley Armstrong]   \n",
              "453                   [Sylvia Day]   \n",
              "678    [Kerstin Gier, Anthea Bell]   \n",
              "...                            ...   \n",
              "37423                [L.H. Cosway]   \n",
              "37822                  [S.E. Hall]   \n",
              "37953           [Brian E. Niskala]   \n",
              "37983              [Wayne W. Dyer]   \n",
              "38073             [Julianna Keyes]   \n",
              "\n",
              "                                             description  average_rating  \\\n",
              "76     [When, I, look, back, childhood, I, wonder, I,...            4.10   \n",
              "322                                           [I, deadb]            4.03   \n",
              "448    [All, I, wanted, make, friends, meet, boys, ke...            4.03   \n",
              "453    [Gideon, Cross, came, life, like, lightning, d...            4.19   \n",
              "678    [Or, precisely, one, whod, kissed, doppelgange...            4.12   \n",
              "...                                                  ...             ...   \n",
              "37423  [I, think, triangles, You, think, straight, li...            4.06   \n",
              "37822                [You, never, without, Laney, never]            4.16   \n",
              "37953  [As, manager, I, often, dealt, less, intelligi...            3.45   \n",
              "37983  [If, I, changed, would, create, family, dramas...            4.16   \n",
              "38073  [When, I, moved, Jerry, good, intentions, I, n...            3.55   \n",
              "\n",
              "                                             rating_dist  ratings_count  \\\n",
              "76     5:201999|4:180103|3:82897|2:21030|1:9366|total...         462989   \n",
              "322    5:832228|4:695309|3:417670|2:122952|1:34037|to...        1920011   \n",
              "448    5:61153|4:45325|3:29261|2:8259|1:3727|total:14...         142392   \n",
              "453    5:218189|4:114915|3:61889|2:21443|1:11378|tota...         118200   \n",
              "678    5:40200|4:36481|3:17298|2:3752|1:1297|total:99028          67398   \n",
              "...                                                  ...            ...   \n",
              "37423       5:6192|4:5526|3:2506|2:725|1:448|total:15397          12953   \n",
              "37822       5:4645|4:3842|3:1512|2:410|1:221|total:10630           3565   \n",
              "37953                       5:4|4:2|3:1|2:3|1:1|total:11             11   \n",
              "37983        5:3318|4:2243|3:1140|2:319|1:132|total:7152           6521   \n",
              "38073               5:77|4:153|3:135|2:44|1:15|total:424            419   \n",
              "\n",
              "          publication_date         publisher  check_alphabet  check_alternate  \\\n",
              "76     ('10', '3', '2005')  Harper Perennial            True            False   \n",
              "322    ('8', '24', '2010')  Scholastic Press            True            False   \n",
              "448     ('7', '1', '2008')     HarperCollins            True            False   \n",
              "453     ('2', '4', '2014')           Berkley            True            False   \n",
              "678    ('5', '10', '2011')        Henry Holt            True            False   \n",
              "...                    ...               ...             ...              ...   \n",
              "37423  ('7', '26', '2014')       CreateSpace            True            False   \n",
              "37822  ('5', '15', '2013')         S.E. Hall            True            False   \n",
              "37953   ('5', '4', '2012')       CreateSpace            True            False   \n",
              "37983  ('5', '26', '2009')         Hay House            True            False   \n",
              "38073  ('6', '12', '2017')    Julianna Keyes            True            False   \n",
              "\n",
              "                                      vector_description  cluster  \n",
              "76     [0.88220376, -0.3371134, 0.08057113, -0.991886...        7  \n",
              "322    [1.560946, -0.27514094, 1.7939416, -2.6298585,...        7  \n",
              "448    [1.3240815, -0.0726253, 0.9978156, -0.6202323,...        7  \n",
              "453    [0.8852619, -0.2095587, 0.20839463, -0.7627259...        7  \n",
              "678    [1.0657843, -0.13130707, 0.82544035, -0.608945...        7  \n",
              "...                                                  ...      ...  \n",
              "37423  [1.0196631, -0.03397632, -0.32711458, -1.13529...        7  \n",
              "37822  [1.592816, -0.8194143, -0.27133614, -0.7285756...        7  \n",
              "37953  [0.4747964, 0.027798256, 0.25007316, -0.489035...        7  \n",
              "37983  [1.0325136, -0.33124647, 0.6218889, -0.9914143...        7  \n",
              "38073  [1.5102557, -0.49688676, 1.1469091, -1.2063562...        7  \n",
              "\n[384 rows x 13 columns]"
            ]
          },
          "metadata": {}
        }
      ],
      "execution_count": 45,
      "metadata": {}
    },
    {
      "cell_type": "code",
      "source": [
        "def get_cosine_similarity(one, two):\n",
        "    return np.dot(one, two)/(np.linalg.norm(one) * np.linalg.norm(two))"
      ],
      "outputs": [],
      "execution_count": 46,
      "metadata": {}
    },
    {
      "cell_type": "code",
      "source": [
        "a = np.array([1, 2, 3])\n",
        "b = np.array([0, 1, 1])\n",
        "get_cosine_similarity(a, b)"
      ],
      "outputs": [
        {
          "output_type": "execute_result",
          "execution_count": 47,
          "data": {
            "text/plain": [
              "0.944911182523068"
            ]
          },
          "metadata": {}
        }
      ],
      "execution_count": 47,
      "metadata": {}
    },
    {
      "cell_type": "code",
      "source": [
        "import nltk\n",
        "from nltk.tokenize import word_tokenize"
      ],
      "outputs": [],
      "execution_count": 48,
      "metadata": {}
    },
    {
      "cell_type": "code",
      "source": [
        "from goodreads import client\n",
        "goodreads_key = 't6mIkabukH29jAey0381yA'\n",
        "goodreads_secret = '6IWvvO5CNFIAqUragee2Bb5HkEOvxIYqSXeXdFSHvM'\n",
        "good_client = client.GoodreadsClient(goodreads_key, goodreads_secret)"
      ],
      "outputs": [],
      "execution_count": 49,
      "metadata": {}
    },
    {
      "cell_type": "code",
      "source": [
        "test_book = good_client.book('77156')"
      ],
      "outputs": [],
      "execution_count": 50,
      "metadata": {}
    },
    {
      "cell_type": "code",
      "source": [
        "test_book_description = test_book.description"
      ],
      "outputs": [],
      "execution_count": 51,
      "metadata": {}
    },
    {
      "cell_type": "code",
      "source": [
        "test_book_vector = clean_cover_isbn(test_book_description)\n",
        "test_book_vector = clean_html(test_book_vector)\n",
        "test_book_vector = clean_punctuations(test_book_vector)\n",
        "test_book_vector = get_tokens(test_book_vector)\n",
        "test_book_vector = get_vector(test_book_vector)"
      ],
      "outputs": [],
      "execution_count": 52,
      "metadata": {}
    },
    {
      "cell_type": "code",
      "source": [
        "test_book_vector = np.reshape(test_book_vector, (1, 100))"
      ],
      "outputs": [],
      "execution_count": 53,
      "metadata": {}
    },
    {
      "cell_type": "code",
      "source": [
        "cluster_number = book_kmeans.predict(test_book_vector).item()"
      ],
      "outputs": [],
      "execution_count": 54,
      "metadata": {}
    },
    {
      "cell_type": "code",
      "source": [
        "predicted_cluster = info_books[info_books['cluster'] == cluster_number]"
      ],
      "outputs": [],
      "execution_count": 55,
      "metadata": {}
    },
    {
      "cell_type": "code",
      "source": [
        "predicted_cluster.reset_index(drop = True, inplace = True)"
      ],
      "outputs": [],
      "execution_count": 56,
      "metadata": {}
    },
    {
      "cell_type": "code",
      "source": [
        "X = list(predicted_cluster['vector_description'])\n",
        "X = np.array(X)\n",
        "X.shape"
      ],
      "outputs": [
        {
          "output_type": "execute_result",
          "execution_count": 57,
          "data": {
            "text/plain": [
              "(6049, 100)"
            ]
          },
          "metadata": {}
        }
      ],
      "execution_count": 57,
      "metadata": {}
    },
    {
      "cell_type": "code",
      "source": [
        "from sklearn.neighbors import NearestNeighbors\n",
        "books_knn = NearestNeighbors(metric = 'cosine')\n",
        "books_knn.fit(X)"
      ],
      "outputs": [
        {
          "output_type": "execute_result",
          "execution_count": 58,
          "data": {
            "text/plain": [
              "NearestNeighbors(algorithm='auto', leaf_size=30, metric='cosine',\n",
              "                 metric_params=None, n_jobs=None, n_neighbors=5, p=2,\n",
              "                 radius=1.0)"
            ]
          },
          "metadata": {}
        }
      ],
      "execution_count": 58,
      "metadata": {}
    },
    {
      "cell_type": "code",
      "source": [
        "distance, indices = books_knn.kneighbors(test_book_vector, n_neighbors = 20)"
      ],
      "outputs": [],
      "execution_count": 59,
      "metadata": {}
    },
    {
      "cell_type": "code",
      "source": [
        "indices = indices.reshape(-1,)"
      ],
      "outputs": [],
      "execution_count": 60,
      "metadata": {}
    },
    {
      "cell_type": "code",
      "source": [
        "indices"
      ],
      "outputs": [
        {
          "output_type": "execute_result",
          "execution_count": 61,
          "data": {
            "text/plain": [
              "array([2330, 3092, 4447, 1294, 5928,    0,  560, 2049, 1058, 4902, 5968,\n",
              "       2317,  794, 2864, 5494, 5979, 1130, 1487, 1944,    3])"
            ]
          },
          "metadata": {}
        }
      ],
      "execution_count": 61,
      "metadata": {}
    },
    {
      "cell_type": "code",
      "source": [
        "predicted_cluster.iloc[indices]"
      ],
      "outputs": [
        {
          "output_type": "execute_result",
          "execution_count": 54,
          "data": {
            "text/html": [
              "<div>\n",
              "<style scoped>\n",
              "    .dataframe tbody tr th:only-of-type {\n",
              "        vertical-align: middle;\n",
              "    }\n",
              "\n",
              "    .dataframe tbody tr th {\n",
              "        vertical-align: top;\n",
              "    }\n",
              "\n",
              "    .dataframe thead th {\n",
              "        text-align: right;\n",
              "    }\n",
              "</style>\n",
              "<table border=\"1\" class=\"dataframe\">\n",
              "  <thead>\n",
              "    <tr style=\"text-align: right;\">\n",
              "      <th></th>\n",
              "      <th>book_id</th>\n",
              "      <th>title</th>\n",
              "      <th>authors</th>\n",
              "      <th>description</th>\n",
              "      <th>average_rating</th>\n",
              "      <th>rating_dist</th>\n",
              "      <th>ratings_count</th>\n",
              "      <th>publication_date</th>\n",
              "      <th>publisher</th>\n",
              "      <th>check_alphabet</th>\n",
              "      <th>check_alternate</th>\n",
              "      <th>vector_description</th>\n",
              "      <th>cluster</th>\n",
              "    </tr>\n",
              "  </thead>\n",
              "  <tbody>\n",
              "    <tr>\n",
              "      <th>870</th>\n",
              "      <td>2339</td>\n",
              "      <td>Jessica</td>\n",
              "      <td>[Bryce Courtenay]</td>\n",
              "      <td>[A, tomboy, Jessica, pride, father, work, toge...</td>\n",
              "      <td>4.18</td>\n",
              "      <td>5:3789|4:2879|3:1319|2:286|1:121|total:8394</td>\n",
              "      <td>7588</td>\n",
              "      <td>(None, None, None)</td>\n",
              "      <td>NaN</td>\n",
              "      <td>True</td>\n",
              "      <td>False</td>\n",
              "      <td>[1.1473615, 0.30945235, -1.07414, 0.26248357, ...</td>\n",
              "      <td>2</td>\n",
              "    </tr>\n",
              "    <tr>\n",
              "      <th>759</th>\n",
              "      <td>77156</td>\n",
              "      <td>Plainsong (Plainsong, #1)</td>\n",
              "      <td>[Kent Haruf]</td>\n",
              "      <td>[In, small, town, Holt, Colorado, high, school...</td>\n",
              "      <td>4.02</td>\n",
              "      <td>5:19524|4:22973|3:11373|2:2450|1:659|total:56979</td>\n",
              "      <td>52336</td>\n",
              "      <td>('8', '22', '2000')</td>\n",
              "      <td>Vintage</td>\n",
              "      <td>True</td>\n",
              "      <td>False</td>\n",
              "      <td>[1.6360257, 0.10113058, -0.69851303, 0.0398233...</td>\n",
              "      <td>2</td>\n",
              "    </tr>\n",
              "    <tr>\n",
              "      <th>3755</th>\n",
              "      <td>12888674</td>\n",
              "      <td>Voodoo in My Blood: A Healer's Journey from Su...</td>\n",
              "      <td>[Carolle Jean-Murat]</td>\n",
              "      <td>[Born, raised, Haiti, family, healers, Dr, Car...</td>\n",
              "      <td>4.14</td>\n",
              "      <td>5:6|4:4|3:4|2:0|1:0|total:14</td>\n",
              "      <td>11</td>\n",
              "      <td>('9', '4', '2012')</td>\n",
              "      <td>Bettie Youngs Books (Publisher)</td>\n",
              "      <td>True</td>\n",
              "      <td>False</td>\n",
              "      <td>[1.3344243, 0.47336024, -0.8224774, -0.3806031...</td>\n",
              "      <td>2</td>\n",
              "    </tr>\n",
              "    <tr>\n",
              "      <th>3325</th>\n",
              "      <td>10055</td>\n",
              "      <td>And I Don't Want to Live This Life: A Mother's...</td>\n",
              "      <td>[Deborah Spungen]</td>\n",
              "      <td>[For, us, another, horrible, headline, But, De...</td>\n",
              "      <td>4.10</td>\n",
              "      <td>5:2295|4:1972|3:1085|2:241|1:59|total:5652</td>\n",
              "      <td>4650</td>\n",
              "      <td>('9', '29', '1996')</td>\n",
              "      <td>Ballantine Books</td>\n",
              "      <td>True</td>\n",
              "      <td>False</td>\n",
              "      <td>[1.1306812, -0.051503714, -0.6331981, -0.21806...</td>\n",
              "      <td>2</td>\n",
              "    </tr>\n",
              "    <tr>\n",
              "      <th>1990</th>\n",
              "      <td>1466455</td>\n",
              "      <td>Three Wishes</td>\n",
              "      <td>[Liane Moriarty]</td>\n",
              "      <td>[Lyn, Cat, Gemma, Kettle, beautiful, thirtythr...</td>\n",
              "      <td>3.78</td>\n",
              "      <td>5:19313|4:38687|3:27814|2:4499|1:904|total:91217</td>\n",
              "      <td>63726</td>\n",
              "      <td>('6', '24', '2014')</td>\n",
              "      <td>Harper Paperbacks</td>\n",
              "      <td>True</td>\n",
              "      <td>False</td>\n",
              "      <td>[1.5650867, 0.27412918, -0.65347725, 0.0388908...</td>\n",
              "      <td>2</td>\n",
              "    </tr>\n",
              "    <tr>\n",
              "      <th>1087</th>\n",
              "      <td>303460</td>\n",
              "      <td>Among the Betrayed (Shadow Children, #3)</td>\n",
              "      <td>[Margaret Peterson Haddix]</td>\n",
              "      <td>[Everything, happened, Nina, real, She, real, ...</td>\n",
              "      <td>4.06</td>\n",
              "      <td>5:8638|4:8267|3:5097|2:806|1:148|total:22956</td>\n",
              "      <td>21841</td>\n",
              "      <td>('6', '1', '2002')</td>\n",
              "      <td>Simon  Schuster Books for Young Readers</td>\n",
              "      <td>True</td>\n",
              "      <td>False</td>\n",
              "      <td>[1.593571, 0.22452495, -0.7734944, -0.23047526...</td>\n",
              "      <td>2</td>\n",
              "    </tr>\n",
              "    <tr>\n",
              "      <th>6393</th>\n",
              "      <td>817791</td>\n",
              "      <td>The Blind Side: Evolution of a Game</td>\n",
              "      <td>[Michael   Lewis]</td>\n",
              "      <td>[When, first, meet, Michael, Oher, one, thirte...</td>\n",
              "      <td>4.18</td>\n",
              "      <td>5:35406|4:26559|3:11758|2:2584|1:1558|total:77865</td>\n",
              "      <td>49383</td>\n",
              "      <td>('9', '17', '2007')</td>\n",
              "      <td>W. W. Norton  Company</td>\n",
              "      <td>True</td>\n",
              "      <td>False</td>\n",
              "      <td>[1.1538557, 0.35879797, -0.8576854, -0.0327569...</td>\n",
              "      <td>2</td>\n",
              "    </tr>\n",
              "    <tr>\n",
              "      <th>8137</th>\n",
              "      <td>13449686</td>\n",
              "      <td>Frederica</td>\n",
              "      <td>[Georgette Heyer]</td>\n",
              "      <td>[The, Merrivales, family, solid, social, stand...</td>\n",
              "      <td>4.17</td>\n",
              "      <td>5:6898|4:6391|3:2755|2:467|1:153|total:16664</td>\n",
              "      <td>68</td>\n",
              "      <td>(None, None, '1965')</td>\n",
              "      <td>The Bodley Head</td>\n",
              "      <td>True</td>\n",
              "      <td>False</td>\n",
              "      <td>[1.3909874, 0.36434048, -0.68991745, -0.127017...</td>\n",
              "      <td>2</td>\n",
              "    </tr>\n",
              "    <tr>\n",
              "      <th>5648</th>\n",
              "      <td>19405479</td>\n",
              "      <td>The House of Love</td>\n",
              "      <td>[Elizabeth Cheney]</td>\n",
              "      <td>[Aurelia, Wilde, cruelly, selfish, downright, ...</td>\n",
              "      <td>4.08</td>\n",
              "      <td>5:47|4:30|3:18|2:9|1:1|total:105</td>\n",
              "      <td>4</td>\n",
              "      <td>(None, None, None)</td>\n",
              "      <td>Lamplighter Publishing</td>\n",
              "      <td>True</td>\n",
              "      <td>False</td>\n",
              "      <td>[1.3260463, 0.33237332, -0.8452299, -0.1515658...</td>\n",
              "      <td>2</td>\n",
              "    </tr>\n",
              "    <tr>\n",
              "      <th>3152</th>\n",
              "      <td>4954543</td>\n",
              "      <td>Origins (Truancy, #0)</td>\n",
              "      <td>[Isamu Fukui]</td>\n",
              "      <td>[Raised, comfort, Mayoral, mansion, Umasi, Zen...</td>\n",
              "      <td>4.20</td>\n",
              "      <td>5:213|4:123|3:56|2:21|1:10|total:423</td>\n",
              "      <td>387</td>\n",
              "      <td>('3', '3', '2009')</td>\n",
              "      <td>Tor Teen</td>\n",
              "      <td>True</td>\n",
              "      <td>False</td>\n",
              "      <td>[1.5556893, 0.28994972, -0.60616624, 0.1565065...</td>\n",
              "      <td>2</td>\n",
              "    </tr>\n",
              "    <tr>\n",
              "      <th>4533</th>\n",
              "      <td>6564051</td>\n",
              "      <td>Kafka on the Shore</td>\n",
              "      <td>[Haruki Murakami]</td>\n",
              "      <td>[Kafka, Shore, powered, two, remarkable, chara...</td>\n",
              "      <td>4.13</td>\n",
              "      <td>5:106108|4:99604|3:40252|2:10093|1:3625|total:...</td>\n",
              "      <td>3904</td>\n",
              "      <td>(None, None, '2005')</td>\n",
              "      <td>Vintage</td>\n",
              "      <td>True</td>\n",
              "      <td>False</td>\n",
              "      <td>[1.5392705, -0.00022692085, -0.5701637, -0.009...</td>\n",
              "      <td>2</td>\n",
              "    </tr>\n",
              "    <tr>\n",
              "      <th>6102</th>\n",
              "      <td>827985</td>\n",
              "      <td>Stones in Water (Stones in Water, #1)</td>\n",
              "      <td>[Donna Jo Napoli]</td>\n",
              "      <td>[When, Roberto, sneaks, see, movie, Italian, v...</td>\n",
              "      <td>3.83</td>\n",
              "      <td>5:749|4:750|3:543|2:158|1:90|total:2290</td>\n",
              "      <td>2182</td>\n",
              "      <td>('10', '25', '1999')</td>\n",
              "      <td>Puffin Books</td>\n",
              "      <td>True</td>\n",
              "      <td>False</td>\n",
              "      <td>[1.4780922, 0.025882524, -0.722452, 0.14832471...</td>\n",
              "      <td>2</td>\n",
              "    </tr>\n",
              "    <tr>\n",
              "      <th>4182</th>\n",
              "      <td>817379</td>\n",
              "      <td>Angels Watching Over Me (Shenandoah Sisters, #1)</td>\n",
              "      <td>[Michael R. Phillips]</td>\n",
              "      <td>[Book, 1, SHENANDOAH, SISTERS, Two, young, Sou...</td>\n",
              "      <td>4.08</td>\n",
              "      <td>5:2332|4:1760|3:1009|2:259|1:117|total:5477</td>\n",
              "      <td>2961</td>\n",
              "      <td>('1', '1', '2003')</td>\n",
              "      <td>Bethany House Publishers</td>\n",
              "      <td>True</td>\n",
              "      <td>False</td>\n",
              "      <td>[1.7334964, 0.35400245, -0.79973066, 0.1931540...</td>\n",
              "      <td>2</td>\n",
              "    </tr>\n",
              "    <tr>\n",
              "      <th>5940</th>\n",
              "      <td>878348</td>\n",
              "      <td>Winners &amp; Losers</td>\n",
              "      <td>[Catrin Collier]</td>\n",
              "      <td>[Tonypandy, 1910, town, poverty, hardship, str...</td>\n",
              "      <td>4.17</td>\n",
              "      <td>5:41|4:30|3:12|2:4|1:2|total:89</td>\n",
              "      <td>23</td>\n",
              "      <td>('2', '1', '2005')</td>\n",
              "      <td>Orion Publishing</td>\n",
              "      <td>True</td>\n",
              "      <td>False</td>\n",
              "      <td>[1.6259176, 0.24852297, -0.9785621, 0.01205549...</td>\n",
              "      <td>2</td>\n",
              "    </tr>\n",
              "    <tr>\n",
              "      <th>6212</th>\n",
              "      <td>1619672</td>\n",
              "      <td>Als Hitler das rosa Kaninchen stahl</td>\n",
              "      <td>[Judith Kerr]</td>\n",
              "      <td>[Partly, autobiographical, first, internationa...</td>\n",
              "      <td>3.96</td>\n",
              "      <td>5:3713|4:4577|3:2573|2:544|1:160|total:11567</td>\n",
              "      <td>410</td>\n",
              "      <td>(None, None, None)</td>\n",
              "      <td>NaN</td>\n",
              "      <td>True</td>\n",
              "      <td>False</td>\n",
              "      <td>[1.3308716, 0.26891515, -0.7237261, -0.1854825...</td>\n",
              "      <td>2</td>\n",
              "    </tr>\n",
              "    <tr>\n",
              "      <th>1708</th>\n",
              "      <td>54283</td>\n",
              "      <td>When Hitler Stole Pink Rabbit (Out of the Hitl...</td>\n",
              "      <td>[Judith Kerr]</td>\n",
              "      <td>[Partly, autobiographical, first, internationa...</td>\n",
              "      <td>3.96</td>\n",
              "      <td>5:3713|4:4577|3:2573|2:544|1:160|total:11567</td>\n",
              "      <td>7796</td>\n",
              "      <td>(None, None, None)</td>\n",
              "      <td>Random House</td>\n",
              "      <td>True</td>\n",
              "      <td>False</td>\n",
              "      <td>[1.3308716, 0.26891515, -0.7237261, -0.1854825...</td>\n",
              "      <td>2</td>\n",
              "    </tr>\n",
              "    <tr>\n",
              "      <th>4584</th>\n",
              "      <td>8125720</td>\n",
              "      <td>Hearts Aglow (Striking a Match, #2)</td>\n",
              "      <td>[Tracie Peterson]</td>\n",
              "      <td>[The, future, bright, Deborah, Vandermark, pur...</td>\n",
              "      <td>3.99</td>\n",
              "      <td>5:408|4:397|3:293|2:41|1:15|total:1154</td>\n",
              "      <td>927</td>\n",
              "      <td>(None, None, '2011')</td>\n",
              "      <td>Bethany House Publishers</td>\n",
              "      <td>True</td>\n",
              "      <td>False</td>\n",
              "      <td>[1.5799832, -0.13103195, -0.5529959, -0.039154...</td>\n",
              "      <td>2</td>\n",
              "    </tr>\n",
              "    <tr>\n",
              "      <th>8144</th>\n",
              "      <td>571398</td>\n",
              "      <td>Blood Will Tell (Kate Shugak, #6)</td>\n",
              "      <td>[Dana Stabenow]</td>\n",
              "      <td>[Dana, Stabenow, returns, Alaska, Americas, la...</td>\n",
              "      <td>4.23</td>\n",
              "      <td>5:1769|4:1693|3:602|2:66|1:31|total:4161</td>\n",
              "      <td>3670</td>\n",
              "      <td>('6', '1', '1997')</td>\n",
              "      <td>Berkley</td>\n",
              "      <td>True</td>\n",
              "      <td>False</td>\n",
              "      <td>[1.391505, 0.40936163, -0.77463174, 0.00116536...</td>\n",
              "      <td>2</td>\n",
              "    </tr>\n",
              "    <tr>\n",
              "      <th>2237</th>\n",
              "      <td>762053</td>\n",
              "      <td>Key of Light (Key Trilogy, #1)</td>\n",
              "      <td>[Nora Roberts]</td>\n",
              "      <td>[There, two, guests, Dana, Steele, librarian, ...</td>\n",
              "      <td>4.17</td>\n",
              "      <td>5:24056|4:17516|3:9997|2:1722|1:503|total:53794</td>\n",
              "      <td>51557</td>\n",
              "      <td>('10', '28', '2003')</td>\n",
              "      <td>Jove</td>\n",
              "      <td>True</td>\n",
              "      <td>False</td>\n",
              "      <td>[1.59132, 0.37727517, -0.74952674, 0.025633784...</td>\n",
              "      <td>2</td>\n",
              "    </tr>\n",
              "    <tr>\n",
              "      <th>6554</th>\n",
              "      <td>597895</td>\n",
              "      <td>Double Dippin'</td>\n",
              "      <td>[Allison Hobbs]</td>\n",
              "      <td>[When, Tariq, Shane, Batista, four, years, old...</td>\n",
              "      <td>4.37</td>\n",
              "      <td>5:414|4:148|3:78|2:22|1:14|total:676</td>\n",
              "      <td>655</td>\n",
              "      <td>('5', '11', '2010')</td>\n",
              "      <td>Strebor Books</td>\n",
              "      <td>True</td>\n",
              "      <td>False</td>\n",
              "      <td>[1.586428, 0.09966747, -0.7180275, -0.04767252...</td>\n",
              "      <td>2</td>\n",
              "    </tr>\n",
              "  </tbody>\n",
              "</table>\n",
              "</div>"
            ],
            "text/plain": [
              "       book_id                                              title  \\\n",
              "870       2339                                            Jessica   \n",
              "759      77156                          Plainsong (Plainsong, #1)   \n",
              "3755  12888674  Voodoo in My Blood: A Healer's Journey from Su...   \n",
              "3325     10055  And I Don't Want to Live This Life: A Mother's...   \n",
              "1990   1466455                                       Three Wishes   \n",
              "1087    303460           Among the Betrayed (Shadow Children, #3)   \n",
              "6393    817791                The Blind Side: Evolution of a Game   \n",
              "8137  13449686                                          Frederica   \n",
              "5648  19405479                                  The House of Love   \n",
              "3152   4954543                              Origins (Truancy, #0)   \n",
              "4533   6564051                                 Kafka on the Shore   \n",
              "6102    827985              Stones in Water (Stones in Water, #1)   \n",
              "4182    817379   Angels Watching Over Me (Shenandoah Sisters, #1)   \n",
              "5940    878348                                   Winners & Losers   \n",
              "6212   1619672                Als Hitler das rosa Kaninchen stahl   \n",
              "1708     54283  When Hitler Stole Pink Rabbit (Out of the Hitl...   \n",
              "4584   8125720                Hearts Aglow (Striking a Match, #2)   \n",
              "8144    571398                  Blood Will Tell (Kate Shugak, #6)   \n",
              "2237    762053                     Key of Light (Key Trilogy, #1)   \n",
              "6554    597895                                     Double Dippin'   \n",
              "\n",
              "                         authors  \\\n",
              "870            [Bryce Courtenay]   \n",
              "759                 [Kent Haruf]   \n",
              "3755        [Carolle Jean-Murat]   \n",
              "3325           [Deborah Spungen]   \n",
              "1990            [Liane Moriarty]   \n",
              "1087  [Margaret Peterson Haddix]   \n",
              "6393           [Michael   Lewis]   \n",
              "8137           [Georgette Heyer]   \n",
              "5648          [Elizabeth Cheney]   \n",
              "3152               [Isamu Fukui]   \n",
              "4533           [Haruki Murakami]   \n",
              "6102           [Donna Jo Napoli]   \n",
              "4182       [Michael R. Phillips]   \n",
              "5940            [Catrin Collier]   \n",
              "6212               [Judith Kerr]   \n",
              "1708               [Judith Kerr]   \n",
              "4584           [Tracie Peterson]   \n",
              "8144             [Dana Stabenow]   \n",
              "2237              [Nora Roberts]   \n",
              "6554             [Allison Hobbs]   \n",
              "\n",
              "                                            description  average_rating  \\\n",
              "870   [A, tomboy, Jessica, pride, father, work, toge...            4.18   \n",
              "759   [In, small, town, Holt, Colorado, high, school...            4.02   \n",
              "3755  [Born, raised, Haiti, family, healers, Dr, Car...            4.14   \n",
              "3325  [For, us, another, horrible, headline, But, De...            4.10   \n",
              "1990  [Lyn, Cat, Gemma, Kettle, beautiful, thirtythr...            3.78   \n",
              "1087  [Everything, happened, Nina, real, She, real, ...            4.06   \n",
              "6393  [When, first, meet, Michael, Oher, one, thirte...            4.18   \n",
              "8137  [The, Merrivales, family, solid, social, stand...            4.17   \n",
              "5648  [Aurelia, Wilde, cruelly, selfish, downright, ...            4.08   \n",
              "3152  [Raised, comfort, Mayoral, mansion, Umasi, Zen...            4.20   \n",
              "4533  [Kafka, Shore, powered, two, remarkable, chara...            4.13   \n",
              "6102  [When, Roberto, sneaks, see, movie, Italian, v...            3.83   \n",
              "4182  [Book, 1, SHENANDOAH, SISTERS, Two, young, Sou...            4.08   \n",
              "5940  [Tonypandy, 1910, town, poverty, hardship, str...            4.17   \n",
              "6212  [Partly, autobiographical, first, internationa...            3.96   \n",
              "1708  [Partly, autobiographical, first, internationa...            3.96   \n",
              "4584  [The, future, bright, Deborah, Vandermark, pur...            3.99   \n",
              "8144  [Dana, Stabenow, returns, Alaska, Americas, la...            4.23   \n",
              "2237  [There, two, guests, Dana, Steele, librarian, ...            4.17   \n",
              "6554  [When, Tariq, Shane, Batista, four, years, old...            4.37   \n",
              "\n",
              "                                            rating_dist  ratings_count  \\\n",
              "870         5:3789|4:2879|3:1319|2:286|1:121|total:8394           7588   \n",
              "759    5:19524|4:22973|3:11373|2:2450|1:659|total:56979          52336   \n",
              "3755                       5:6|4:4|3:4|2:0|1:0|total:14             11   \n",
              "3325         5:2295|4:1972|3:1085|2:241|1:59|total:5652           4650   \n",
              "1990   5:19313|4:38687|3:27814|2:4499|1:904|total:91217          63726   \n",
              "1087       5:8638|4:8267|3:5097|2:806|1:148|total:22956          21841   \n",
              "6393  5:35406|4:26559|3:11758|2:2584|1:1558|total:77865          49383   \n",
              "8137       5:6898|4:6391|3:2755|2:467|1:153|total:16664             68   \n",
              "5648                   5:47|4:30|3:18|2:9|1:1|total:105              4   \n",
              "3152               5:213|4:123|3:56|2:21|1:10|total:423            387   \n",
              "4533  5:106108|4:99604|3:40252|2:10093|1:3625|total:...           3904   \n",
              "6102            5:749|4:750|3:543|2:158|1:90|total:2290           2182   \n",
              "4182        5:2332|4:1760|3:1009|2:259|1:117|total:5477           2961   \n",
              "5940                    5:41|4:30|3:12|2:4|1:2|total:89             23   \n",
              "6212       5:3713|4:4577|3:2573|2:544|1:160|total:11567            410   \n",
              "1708       5:3713|4:4577|3:2573|2:544|1:160|total:11567           7796   \n",
              "4584             5:408|4:397|3:293|2:41|1:15|total:1154            927   \n",
              "8144           5:1769|4:1693|3:602|2:66|1:31|total:4161           3670   \n",
              "2237    5:24056|4:17516|3:9997|2:1722|1:503|total:53794          51557   \n",
              "6554               5:414|4:148|3:78|2:22|1:14|total:676            655   \n",
              "\n",
              "          publication_date                                publisher  \\\n",
              "870     (None, None, None)                                      NaN   \n",
              "759    ('8', '22', '2000')                                  Vintage   \n",
              "3755    ('9', '4', '2012')          Bettie Youngs Books (Publisher)   \n",
              "3325   ('9', '29', '1996')                         Ballantine Books   \n",
              "1990   ('6', '24', '2014')                        Harper Paperbacks   \n",
              "1087    ('6', '1', '2002')  Simon  Schuster Books for Young Readers   \n",
              "6393   ('9', '17', '2007')                    W. W. Norton  Company   \n",
              "8137  (None, None, '1965')                          The Bodley Head   \n",
              "5648    (None, None, None)                   Lamplighter Publishing   \n",
              "3152    ('3', '3', '2009')                                 Tor Teen   \n",
              "4533  (None, None, '2005')                                  Vintage   \n",
              "6102  ('10', '25', '1999')                             Puffin Books   \n",
              "4182    ('1', '1', '2003')                 Bethany House Publishers   \n",
              "5940    ('2', '1', '2005')                         Orion Publishing   \n",
              "6212    (None, None, None)                                      NaN   \n",
              "1708    (None, None, None)                             Random House   \n",
              "4584  (None, None, '2011')                 Bethany House Publishers   \n",
              "8144    ('6', '1', '1997')                                  Berkley   \n",
              "2237  ('10', '28', '2003')                                     Jove   \n",
              "6554   ('5', '11', '2010')                            Strebor Books   \n",
              "\n",
              "      check_alphabet  check_alternate  \\\n",
              "870             True            False   \n",
              "759             True            False   \n",
              "3755            True            False   \n",
              "3325            True            False   \n",
              "1990            True            False   \n",
              "1087            True            False   \n",
              "6393            True            False   \n",
              "8137            True            False   \n",
              "5648            True            False   \n",
              "3152            True            False   \n",
              "4533            True            False   \n",
              "6102            True            False   \n",
              "4182            True            False   \n",
              "5940            True            False   \n",
              "6212            True            False   \n",
              "1708            True            False   \n",
              "4584            True            False   \n",
              "8144            True            False   \n",
              "2237            True            False   \n",
              "6554            True            False   \n",
              "\n",
              "                                     vector_description  cluster  \n",
              "870   [1.1473615, 0.30945235, -1.07414, 0.26248357, ...        2  \n",
              "759   [1.6360257, 0.10113058, -0.69851303, 0.0398233...        2  \n",
              "3755  [1.3344243, 0.47336024, -0.8224774, -0.3806031...        2  \n",
              "3325  [1.1306812, -0.051503714, -0.6331981, -0.21806...        2  \n",
              "1990  [1.5650867, 0.27412918, -0.65347725, 0.0388908...        2  \n",
              "1087  [1.593571, 0.22452495, -0.7734944, -0.23047526...        2  \n",
              "6393  [1.1538557, 0.35879797, -0.8576854, -0.0327569...        2  \n",
              "8137  [1.3909874, 0.36434048, -0.68991745, -0.127017...        2  \n",
              "5648  [1.3260463, 0.33237332, -0.8452299, -0.1515658...        2  \n",
              "3152  [1.5556893, 0.28994972, -0.60616624, 0.1565065...        2  \n",
              "4533  [1.5392705, -0.00022692085, -0.5701637, -0.009...        2  \n",
              "6102  [1.4780922, 0.025882524, -0.722452, 0.14832471...        2  \n",
              "4182  [1.7334964, 0.35400245, -0.79973066, 0.1931540...        2  \n",
              "5940  [1.6259176, 0.24852297, -0.9785621, 0.01205549...        2  \n",
              "6212  [1.3308716, 0.26891515, -0.7237261, -0.1854825...        2  \n",
              "1708  [1.3308716, 0.26891515, -0.7237261, -0.1854825...        2  \n",
              "4584  [1.5799832, -0.13103195, -0.5529959, -0.039154...        2  \n",
              "8144  [1.391505, 0.40936163, -0.77463174, 0.00116536...        2  \n",
              "2237  [1.59132, 0.37727517, -0.74952674, 0.025633784...        2  \n",
              "6554  [1.586428, 0.09966747, -0.7180275, -0.04767252...        2  "
            ]
          },
          "metadata": {}
        }
      ],
      "execution_count": 54,
      "metadata": {}
    },
    {
      "cell_type": "code",
      "source": [
        "# 20 books that are most similar to the query book\n",
        "# choose 5 books \n",
        "\n# choose one supervised model (multinomial logistic regression) and then test the cluster label prediction."
      ],
      "outputs": [],
      "execution_count": null,
      "metadata": {}
    },
    {
      "cell_type": "code",
      "source": [
        "# website 1st phase\n",
        "# user input their moods, and match the exact string\n",
        "# output the top 5 books"
      ],
      "outputs": [],
      "execution_count": null,
      "metadata": {}
    }
  ],
  "metadata": {
    "kernelspec": {
      "name": "python3",
      "language": "python",
      "display_name": "Python 3"
    },
    "language_info": {
      "name": "python",
      "version": "3.7.3",
      "mimetype": "text/x-python",
      "codemirror_mode": {
        "name": "ipython",
        "version": 3
      },
      "pygments_lexer": "ipython3",
      "nbconvert_exporter": "python",
      "file_extension": ".py"
    },
    "kernel_info": {
      "name": "python3"
    },
    "nteract": {
      "version": "0.12.3"
    }
  },
  "nbformat": 4,
  "nbformat_minor": 2
}