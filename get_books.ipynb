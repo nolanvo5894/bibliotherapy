{
 "cells": [
  {
   "cell_type": "code",
   "execution_count": 146,
   "metadata": {
    "colab": {},
    "colab_type": "code",
    "id": "aQdcxD2R-qMI"
   },
   "outputs": [],
   "source": [
    "import pandas as pd\n",
    "from goodreads import client"
   ]
  },
  {
   "cell_type": "code",
   "execution_count": 147,
   "metadata": {
    "colab": {},
    "colab_type": "code",
    "id": "tIBQ8S9f-GHz"
   },
   "outputs": [],
   "source": [
    "books = pd.read_csv('good_books_10k/good_books_long.csv')"
   ]
  },
  {
   "cell_type": "code",
   "execution_count": 159,
   "metadata": {},
   "outputs": [
    {
     "data": {
      "text/html": [
       "<div>\n",
       "<style scoped>\n",
       "    .dataframe tbody tr th:only-of-type {\n",
       "        vertical-align: middle;\n",
       "    }\n",
       "\n",
       "    .dataframe tbody tr th {\n",
       "        vertical-align: top;\n",
       "    }\n",
       "\n",
       "    .dataframe thead th {\n",
       "        text-align: right;\n",
       "    }\n",
       "</style>\n",
       "<table border=\"1\" class=\"dataframe\">\n",
       "  <thead>\n",
       "    <tr style=\"text-align: right;\">\n",
       "      <th></th>\n",
       "      <th>goodreads_book_id</th>\n",
       "      <th>authors</th>\n",
       "      <th>original_publication_year</th>\n",
       "      <th>original_title</th>\n",
       "      <th>average_rating</th>\n",
       "      <th>ratings_1</th>\n",
       "      <th>ratings_2</th>\n",
       "      <th>ratings_3</th>\n",
       "      <th>ratings_4</th>\n",
       "      <th>ratings_5</th>\n",
       "      <th>description</th>\n",
       "    </tr>\n",
       "  </thead>\n",
       "  <tbody>\n",
       "    <tr>\n",
       "      <th>1013</th>\n",
       "      <td>8698</td>\n",
       "      <td>Douglas Adams</td>\n",
       "      <td>1984.0</td>\n",
       "      <td>So Long, and Thanks for All the Fish</td>\n",
       "      <td>4.08</td>\n",
       "      <td>624</td>\n",
       "      <td>4454</td>\n",
       "      <td>22611</td>\n",
       "      <td>39988</td>\n",
       "      <td>41858</td>\n",
       "      <td>Including everything you wanted to know about ...</td>\n",
       "    </tr>\n",
       "  </tbody>\n",
       "</table>\n",
       "</div>"
      ],
      "text/plain": [
       "      goodreads_book_id        authors  original_publication_year  \\\n",
       "1013               8698  Douglas Adams                     1984.0   \n",
       "\n",
       "                            original_title  average_rating  ratings_1  \\\n",
       "1013  So Long, and Thanks for All the Fish            4.08        624   \n",
       "\n",
       "      ratings_2  ratings_3  ratings_4  ratings_5  \\\n",
       "1013       4454      22611      39988      41858   \n",
       "\n",
       "                                            description  \n",
       "1013  Including everything you wanted to know about ...  "
      ]
     },
     "execution_count": 159,
     "metadata": {},
     "output_type": "execute_result"
    }
   ],
   "source": [
    "books[books['original_title'] == 'So Long, and Thanks for All the Fish']"
   ]
  },
  {
   "cell_type": "code",
   "execution_count": 8,
   "metadata": {
    "colab": {},
    "colab_type": "code",
    "id": "4izJEPE6--lb"
   },
   "outputs": [],
   "source": [
    "goodreads_key = 't6mIkabukH29jAey0381yA'\n",
    "goodreads_secret = '6IWvvO5CNFIAqUragee2Bb5HkEOvxIYqSXeXdFSHvM'\n",
    "good_client = client.GoodreadsClient(goodreads_key, goodreads_secret)"
   ]
  },
  {
   "cell_type": "code",
   "execution_count": 0,
   "metadata": {
    "colab": {},
    "colab_type": "code",
    "id": "OpUz_0_s_BWa"
   },
   "outputs": [],
   "source": [
    "# get descriptions for books in the dataset using the book_ids\n",
    "import time\n",
    "good_descriptions = []\n",
    "i = 1\n",
    "for book_id in books['goodreads_book_id']:\n",
    "    try:\n",
    "        print(i)\n",
    "        i += 1\n",
    "        book = good_client.book(book_id)\n",
    "        good_descriptions.append(book.description)\n",
    "        time.sleep(0.5)\n",
    "    except:\n",
    "        pass"
   ]
  },
  {
   "cell_type": "code",
   "execution_count": 0,
   "metadata": {
    "colab": {},
    "colab_type": "code",
    "id": "laZBRSn6Adm2"
   },
   "outputs": [],
   "source": [
    "books['description'] = pd.Series(good_descriptions)"
   ]
  },
  {
   "cell_type": "code",
   "execution_count": 9,
   "metadata": {
    "colab": {
     "base_uri": "https://localhost:8080/",
     "height": 493
    },
    "colab_type": "code",
    "id": "HbQHFT8MA0BE",
    "outputId": "fdd1d2b5-c47b-443e-9bf2-1fd8c8bb56a2"
   },
   "outputs": [
    {
     "data": {
      "text/html": [
       "<div>\n",
       "<style scoped>\n",
       "    .dataframe tbody tr th:only-of-type {\n",
       "        vertical-align: middle;\n",
       "    }\n",
       "\n",
       "    .dataframe tbody tr th {\n",
       "        vertical-align: top;\n",
       "    }\n",
       "\n",
       "    .dataframe thead th {\n",
       "        text-align: right;\n",
       "    }\n",
       "</style>\n",
       "<table border=\"1\" class=\"dataframe\">\n",
       "  <thead>\n",
       "    <tr style=\"text-align: right;\">\n",
       "      <th></th>\n",
       "      <th>goodreads_book_id</th>\n",
       "      <th>authors</th>\n",
       "      <th>original_publication_year</th>\n",
       "      <th>original_title</th>\n",
       "      <th>average_rating</th>\n",
       "      <th>ratings_1</th>\n",
       "      <th>ratings_2</th>\n",
       "      <th>ratings_3</th>\n",
       "      <th>ratings_4</th>\n",
       "      <th>ratings_5</th>\n",
       "      <th>description</th>\n",
       "    </tr>\n",
       "  </thead>\n",
       "  <tbody>\n",
       "    <tr>\n",
       "      <th>0</th>\n",
       "      <td>2767052</td>\n",
       "      <td>Suzanne Collins</td>\n",
       "      <td>2008.0</td>\n",
       "      <td>The Hunger Games</td>\n",
       "      <td>4.34</td>\n",
       "      <td>66715</td>\n",
       "      <td>127936</td>\n",
       "      <td>560092</td>\n",
       "      <td>1481305</td>\n",
       "      <td>2706317</td>\n",
       "      <td>Could you survive on your own, in the wild, wi...</td>\n",
       "    </tr>\n",
       "    <tr>\n",
       "      <th>1</th>\n",
       "      <td>3</td>\n",
       "      <td>J.K. Rowling, Mary GrandPré</td>\n",
       "      <td>1997.0</td>\n",
       "      <td>Harry Potter and the Philosopher's Stone</td>\n",
       "      <td>4.44</td>\n",
       "      <td>75504</td>\n",
       "      <td>101676</td>\n",
       "      <td>455024</td>\n",
       "      <td>1156318</td>\n",
       "      <td>3011543</td>\n",
       "      <td>Harry Potter's life is miserable. His parents ...</td>\n",
       "    </tr>\n",
       "    <tr>\n",
       "      <th>2</th>\n",
       "      <td>41865</td>\n",
       "      <td>Stephenie Meyer</td>\n",
       "      <td>2005.0</td>\n",
       "      <td>Twilight</td>\n",
       "      <td>3.57</td>\n",
       "      <td>456191</td>\n",
       "      <td>436802</td>\n",
       "      <td>793319</td>\n",
       "      <td>875073</td>\n",
       "      <td>1355439</td>\n",
       "      <td>&lt;b&gt;About three things I was absolutely positiv...</td>\n",
       "    </tr>\n",
       "    <tr>\n",
       "      <th>3</th>\n",
       "      <td>2657</td>\n",
       "      <td>Harper Lee</td>\n",
       "      <td>1960.0</td>\n",
       "      <td>To Kill a Mockingbird</td>\n",
       "      <td>4.25</td>\n",
       "      <td>60427</td>\n",
       "      <td>117415</td>\n",
       "      <td>446835</td>\n",
       "      <td>1001952</td>\n",
       "      <td>1714267</td>\n",
       "      <td>The unforgettable novel of a childhood in a sl...</td>\n",
       "    </tr>\n",
       "    <tr>\n",
       "      <th>4</th>\n",
       "      <td>4671</td>\n",
       "      <td>F. Scott Fitzgerald</td>\n",
       "      <td>1925.0</td>\n",
       "      <td>The Great Gatsby</td>\n",
       "      <td>3.89</td>\n",
       "      <td>86236</td>\n",
       "      <td>197621</td>\n",
       "      <td>606158</td>\n",
       "      <td>936012</td>\n",
       "      <td>947718</td>\n",
       "      <td>Alternate Cover Edition ISBN: 0743273567 (ISBN...</td>\n",
       "    </tr>\n",
       "  </tbody>\n",
       "</table>\n",
       "</div>"
      ],
      "text/plain": [
       "   goodreads_book_id  ...                                        description\n",
       "0            2767052  ...  Could you survive on your own, in the wild, wi...\n",
       "1                  3  ...  Harry Potter's life is miserable. His parents ...\n",
       "2              41865  ...  <b>About three things I was absolutely positiv...\n",
       "3               2657  ...  The unforgettable novel of a childhood in a sl...\n",
       "4               4671  ...  Alternate Cover Edition ISBN: 0743273567 (ISBN...\n",
       "\n",
       "[5 rows x 11 columns]"
      ]
     },
     "execution_count": 9,
     "metadata": {
      "tags": []
     },
     "output_type": "execute_result"
    }
   ],
   "source": [
    "books.head()"
   ]
  },
  {
   "cell_type": "code",
   "execution_count": 75,
   "metadata": {
    "colab": {},
    "colab_type": "code",
    "id": "EcikVUS1H7_H"
   },
   "outputs": [],
   "source": [
    "# function to remove the 'Alternate Cover Edition ...' paragraph at the beginning \n",
    "def clean_cover_isbn(text):\n",
    "  try:\n",
    "    text = text.split('<br />')[2]\n",
    "    return text\n",
    "  except:\n",
    "    return text"
   ]
  },
  {
   "cell_type": "code",
   "execution_count": 76,
   "metadata": {
    "colab": {},
    "colab_type": "code",
    "id": "BwQ4s57ADlJu"
   },
   "outputs": [],
   "source": [
    "# function to remove html markings\n",
    "from bs4 import BeautifulSoup\n",
    "def clean_html(text):\n",
    "  try:\n",
    "    soup = BeautifulSoup(text, 'lxml')\n",
    "    clean_text = soup.get_text()\n",
    "    return clean_text\n",
    "  except:\n",
    "    return text"
   ]
  },
  {
   "cell_type": "code",
   "execution_count": 77,
   "metadata": {
    "colab": {},
    "colab_type": "code",
    "id": "TBLdjFdPECwT"
   },
   "outputs": [],
   "source": [
    "# function to remove punctuation\n",
    "import string\n",
    "def clean_punctuations(text):\n",
    "  clean_text = \"\".join([c for c in text if c not in string.punctuation])\n",
    "  return clean_text"
   ]
  },
  {
   "cell_type": "code",
   "execution_count": 0,
   "metadata": {
    "colab": {},
    "colab_type": "code",
    "id": "njP3lo-9wecc"
   },
   "outputs": [],
   "source": [
    "# somehow there were books that were skipped during the first scrape, so here we go again\n",
    "retrieve_books = books[books['description'].isnull()]\n",
    "retrieve_books.reset_index(drop = True, inplace = True)"
   ]
  },
  {
   "cell_type": "code",
   "execution_count": 39,
   "metadata": {
    "colab": {
     "base_uri": "https://localhost:8080/",
     "height": 34
    },
    "colab_type": "code",
    "id": "4W6hc5E7wqb7",
    "outputId": "cadb4bbe-5d67-4a3c-f146-8b2afdb07d8c"
   },
   "outputs": [
    {
     "data": {
      "text/plain": [
       "(125, 11)"
      ]
     },
     "execution_count": 39,
     "metadata": {
      "tags": []
     },
     "output_type": "execute_result"
    }
   ],
   "source": [
    "retrieve_books.shape"
   ]
  },
  {
   "cell_type": "code",
   "execution_count": 0,
   "metadata": {
    "colab": {},
    "colab_type": "code",
    "id": "LKEvx-eyw055"
   },
   "outputs": [],
   "source": [
    "import time\n",
    "retrieve_good_descriptions = []\n",
    "i = 1\n",
    "for book_id in retrieve_books['goodreads_book_id']:\n",
    "    try:\n",
    "        print(i)\n",
    "        i += 1\n",
    "        book = good_client.book(book_id)\n",
    "        retrieve_good_descriptions.append(book.description)\n",
    "        time.sleep(0.5)\n",
    "    except:\n",
    "        pass"
   ]
  },
  {
   "cell_type": "code",
   "execution_count": 0,
   "metadata": {
    "colab": {},
    "colab_type": "code",
    "id": "5CNOSl6U0zeQ"
   },
   "outputs": [],
   "source": [
    "retrieve_good_descriptions"
   ]
  },
  {
   "cell_type": "code",
   "execution_count": 0,
   "metadata": {
    "colab": {},
    "colab_type": "code",
    "id": "ZZHleiiRzGhD"
   },
   "outputs": [],
   "source": [
    "retrieve_books['description'] = pd.Series(retrieve_good_descriptions)"
   ]
  },
  {
   "cell_type": "code",
   "execution_count": 0,
   "metadata": {
    "colab": {},
    "colab_type": "code",
    "id": "6vIGh9yyG-l1"
   },
   "outputs": [],
   "source": [
    "retrieve_books = retrieve_books[~retrieve_books['description'].isnull()]"
   ]
  },
  {
   "cell_type": "code",
   "execution_count": 62,
   "metadata": {
    "colab": {
     "base_uri": "https://localhost:8080/",
     "height": 493
    },
    "colab_type": "code",
    "id": "ujsmkZGY8LSi",
    "outputId": "0b9c6bf8-deaf-45f5-efd7-0b8d8bf450a9"
   },
   "outputs": [
    {
     "data": {
      "text/html": [
       "<div>\n",
       "<style scoped>\n",
       "    .dataframe tbody tr th:only-of-type {\n",
       "        vertical-align: middle;\n",
       "    }\n",
       "\n",
       "    .dataframe tbody tr th {\n",
       "        vertical-align: top;\n",
       "    }\n",
       "\n",
       "    .dataframe thead th {\n",
       "        text-align: right;\n",
       "    }\n",
       "</style>\n",
       "<table border=\"1\" class=\"dataframe\">\n",
       "  <thead>\n",
       "    <tr style=\"text-align: right;\">\n",
       "      <th></th>\n",
       "      <th>goodreads_book_id</th>\n",
       "      <th>authors</th>\n",
       "      <th>original_publication_year</th>\n",
       "      <th>original_title</th>\n",
       "      <th>average_rating</th>\n",
       "      <th>ratings_1</th>\n",
       "      <th>ratings_2</th>\n",
       "      <th>ratings_3</th>\n",
       "      <th>ratings_4</th>\n",
       "      <th>ratings_5</th>\n",
       "      <th>description</th>\n",
       "    </tr>\n",
       "  </thead>\n",
       "  <tbody>\n",
       "    <tr>\n",
       "      <th>0</th>\n",
       "      <td>2767052</td>\n",
       "      <td>Suzanne Collins</td>\n",
       "      <td>2008.0</td>\n",
       "      <td>The Hunger Games</td>\n",
       "      <td>4.34</td>\n",
       "      <td>66715</td>\n",
       "      <td>127936</td>\n",
       "      <td>560092</td>\n",
       "      <td>1481305</td>\n",
       "      <td>2706317</td>\n",
       "      <td>Could you survive on your own, in the wild, wi...</td>\n",
       "    </tr>\n",
       "    <tr>\n",
       "      <th>1</th>\n",
       "      <td>3</td>\n",
       "      <td>J.K. Rowling, Mary GrandPré</td>\n",
       "      <td>1997.0</td>\n",
       "      <td>Harry Potter and the Philosopher's Stone</td>\n",
       "      <td>4.44</td>\n",
       "      <td>75504</td>\n",
       "      <td>101676</td>\n",
       "      <td>455024</td>\n",
       "      <td>1156318</td>\n",
       "      <td>3011543</td>\n",
       "      <td>Harry Potter's life is miserable. His parents ...</td>\n",
       "    </tr>\n",
       "    <tr>\n",
       "      <th>2</th>\n",
       "      <td>41865</td>\n",
       "      <td>Stephenie Meyer</td>\n",
       "      <td>2005.0</td>\n",
       "      <td>Twilight</td>\n",
       "      <td>3.57</td>\n",
       "      <td>456191</td>\n",
       "      <td>436802</td>\n",
       "      <td>793319</td>\n",
       "      <td>875073</td>\n",
       "      <td>1355439</td>\n",
       "      <td>&lt;b&gt;About three things I was absolutely positiv...</td>\n",
       "    </tr>\n",
       "    <tr>\n",
       "      <th>3</th>\n",
       "      <td>2657</td>\n",
       "      <td>Harper Lee</td>\n",
       "      <td>1960.0</td>\n",
       "      <td>To Kill a Mockingbird</td>\n",
       "      <td>4.25</td>\n",
       "      <td>60427</td>\n",
       "      <td>117415</td>\n",
       "      <td>446835</td>\n",
       "      <td>1001952</td>\n",
       "      <td>1714267</td>\n",
       "      <td>The unforgettable novel of a childhood in a sl...</td>\n",
       "    </tr>\n",
       "    <tr>\n",
       "      <th>4</th>\n",
       "      <td>4671</td>\n",
       "      <td>F. Scott Fitzgerald</td>\n",
       "      <td>1925.0</td>\n",
       "      <td>The Great Gatsby</td>\n",
       "      <td>3.89</td>\n",
       "      <td>86236</td>\n",
       "      <td>197621</td>\n",
       "      <td>606158</td>\n",
       "      <td>936012</td>\n",
       "      <td>947718</td>\n",
       "      <td>Alternate Cover Edition ISBN: 0743273567 (ISBN...</td>\n",
       "    </tr>\n",
       "  </tbody>\n",
       "</table>\n",
       "</div>"
      ],
      "text/plain": [
       "   goodreads_book_id  ...                                        description\n",
       "0            2767052  ...  Could you survive on your own, in the wild, wi...\n",
       "1                  3  ...  Harry Potter's life is miserable. His parents ...\n",
       "2              41865  ...  <b>About three things I was absolutely positiv...\n",
       "3               2657  ...  The unforgettable novel of a childhood in a sl...\n",
       "4               4671  ...  Alternate Cover Edition ISBN: 0743273567 (ISBN...\n",
       "\n",
       "[5 rows x 11 columns]"
      ]
     },
     "execution_count": 62,
     "metadata": {
      "tags": []
     },
     "output_type": "execute_result"
    }
   ],
   "source": [
    "books.head()"
   ]
  },
  {
   "cell_type": "code",
   "execution_count": 0,
   "metadata": {
    "colab": {},
    "colab_type": "code",
    "id": "J0jCxd9s-0UF"
   },
   "outputs": [],
   "source": [
    "info_books = books[~books['description'].isnull()]"
   ]
  },
  {
   "cell_type": "code",
   "execution_count": 0,
   "metadata": {
    "colab": {},
    "colab_type": "code",
    "id": "3zP2DVkRGZx2"
   },
   "outputs": [],
   "source": [
    "info_books = pd.concat([info_books, retrieve_books])"
   ]
  },
  {
   "cell_type": "code",
   "execution_count": 75,
   "metadata": {
    "colab": {
     "base_uri": "https://localhost:8080/",
     "height": 34
    },
    "colab_type": "code",
    "id": "HTerFi50G3qP",
    "outputId": "5c5a31a6-f0d5-45b0-b284-a1e0eac4437c"
   },
   "outputs": [
    {
     "data": {
      "text/plain": [
       "(9979, 11)"
      ]
     },
     "execution_count": 75,
     "metadata": {
      "tags": []
     },
     "output_type": "execute_result"
    }
   ],
   "source": [
    "info_books.shape"
   ]
  },
  {
   "cell_type": "code",
   "execution_count": 0,
   "metadata": {
    "colab": {},
    "colab_type": "code",
    "id": "Ai0cXy7y8vdO"
   },
   "outputs": [],
   "source": [
    "info_books['description'] = info_books['description'].apply(lambda x: clean_cover_isbn(x))\n",
    "info_books['description'] = info_books['description'].apply(lambda x: clean_html(x))\n",
    "info_books['description'] = info_books['description'].apply(lambda x: clean_punctuations(x))"
   ]
  },
  {
   "cell_type": "code",
   "execution_count": 77,
   "metadata": {
    "colab": {
     "base_uri": "https://localhost:8080/",
     "height": 445
    },
    "colab_type": "code",
    "id": "5qGhLwdx96SK",
    "outputId": "3fcbca2b-de7a-4faf-bbd1-8d56cf8d9fe1"
   },
   "outputs": [
    {
     "data": {
      "text/html": [
       "<div>\n",
       "<style scoped>\n",
       "    .dataframe tbody tr th:only-of-type {\n",
       "        vertical-align: middle;\n",
       "    }\n",
       "\n",
       "    .dataframe tbody tr th {\n",
       "        vertical-align: top;\n",
       "    }\n",
       "\n",
       "    .dataframe thead th {\n",
       "        text-align: right;\n",
       "    }\n",
       "</style>\n",
       "<table border=\"1\" class=\"dataframe\">\n",
       "  <thead>\n",
       "    <tr style=\"text-align: right;\">\n",
       "      <th></th>\n",
       "      <th>goodreads_book_id</th>\n",
       "      <th>authors</th>\n",
       "      <th>original_publication_year</th>\n",
       "      <th>original_title</th>\n",
       "      <th>average_rating</th>\n",
       "      <th>ratings_1</th>\n",
       "      <th>ratings_2</th>\n",
       "      <th>ratings_3</th>\n",
       "      <th>ratings_4</th>\n",
       "      <th>ratings_5</th>\n",
       "      <th>description</th>\n",
       "    </tr>\n",
       "  </thead>\n",
       "  <tbody>\n",
       "    <tr>\n",
       "      <th>0</th>\n",
       "      <td>2767052</td>\n",
       "      <td>Suzanne Collins</td>\n",
       "      <td>2008.0</td>\n",
       "      <td>The Hunger Games</td>\n",
       "      <td>4.34</td>\n",
       "      <td>66715</td>\n",
       "      <td>127936</td>\n",
       "      <td>560092</td>\n",
       "      <td>1481305</td>\n",
       "      <td>2706317</td>\n",
       "      <td>In the ruins of a place once known as North Am...</td>\n",
       "    </tr>\n",
       "    <tr>\n",
       "      <th>1</th>\n",
       "      <td>3</td>\n",
       "      <td>J.K. Rowling, Mary GrandPré</td>\n",
       "      <td>1997.0</td>\n",
       "      <td>Harry Potter and the Philosopher's Stone</td>\n",
       "      <td>4.44</td>\n",
       "      <td>75504</td>\n",
       "      <td>101676</td>\n",
       "      <td>455024</td>\n",
       "      <td>1156318</td>\n",
       "      <td>3011543</td>\n",
       "      <td>After a lifetime of bottling up his magical po...</td>\n",
       "    </tr>\n",
       "    <tr>\n",
       "      <th>2</th>\n",
       "      <td>41865</td>\n",
       "      <td>Stephenie Meyer</td>\n",
       "      <td>2005.0</td>\n",
       "      <td>Twilight</td>\n",
       "      <td>3.57</td>\n",
       "      <td>456191</td>\n",
       "      <td>436802</td>\n",
       "      <td>793319</td>\n",
       "      <td>875073</td>\n",
       "      <td>1355439</td>\n",
       "      <td>First Edward was a vampire</td>\n",
       "    </tr>\n",
       "    <tr>\n",
       "      <th>3</th>\n",
       "      <td>2657</td>\n",
       "      <td>Harper Lee</td>\n",
       "      <td>1960.0</td>\n",
       "      <td>To Kill a Mockingbird</td>\n",
       "      <td>4.25</td>\n",
       "      <td>60427</td>\n",
       "      <td>117415</td>\n",
       "      <td>446835</td>\n",
       "      <td>1001952</td>\n",
       "      <td>1714267</td>\n",
       "      <td>Compassionate dramatic and deeply moving To Ki...</td>\n",
       "    </tr>\n",
       "    <tr>\n",
       "      <th>4</th>\n",
       "      <td>4671</td>\n",
       "      <td>F. Scott Fitzgerald</td>\n",
       "      <td>1925.0</td>\n",
       "      <td>The Great Gatsby</td>\n",
       "      <td>3.89</td>\n",
       "      <td>86236</td>\n",
       "      <td>197621</td>\n",
       "      <td>606158</td>\n",
       "      <td>936012</td>\n",
       "      <td>947718</td>\n",
       "      <td>The Great Gatsby F Scott Fitzgeralds third boo...</td>\n",
       "    </tr>\n",
       "  </tbody>\n",
       "</table>\n",
       "</div>"
      ],
      "text/plain": [
       "   goodreads_book_id  ...                                        description\n",
       "0            2767052  ...  In the ruins of a place once known as North Am...\n",
       "1                  3  ...  After a lifetime of bottling up his magical po...\n",
       "2              41865  ...                         First Edward was a vampire\n",
       "3               2657  ...  Compassionate dramatic and deeply moving To Ki...\n",
       "4               4671  ...  The Great Gatsby F Scott Fitzgeralds third boo...\n",
       "\n",
       "[5 rows x 11 columns]"
      ]
     },
     "execution_count": 77,
     "metadata": {
      "tags": []
     },
     "output_type": "execute_result"
    }
   ],
   "source": [
    "info_books.head()"
   ]
  },
  {
   "cell_type": "code",
   "execution_count": 0,
   "metadata": {
    "colab": {},
    "colab_type": "code",
    "id": "nd9kOnzQBA2N"
   },
   "outputs": [],
   "source": [
    "info_books['description'] = info_books['description'].apply(lambda x: get_tokens(x))"
   ]
  },
  {
   "cell_type": "code",
   "execution_count": 44,
   "metadata": {
    "colab": {},
    "colab_type": "code",
    "id": "Yfplh_uzBCJ3"
   },
   "outputs": [],
   "source": [
    "info_books = info_books[info_books['description'].map(lambda x: len(x) > 2)]"
   ]
  },
  {
   "cell_type": "code",
   "execution_count": null,
   "metadata": {},
   "outputs": [],
   "source": [
    "info_books.to_csv('good_books_10k/good_books_tokenized.csv', index = False)"
   ]
  },
  {
   "cell_type": "code",
   "execution_count": 13,
   "metadata": {},
   "outputs": [],
   "source": [
    "info_books.to_csv('good_books_en.csv', index = False)"
   ]
  },
  {
   "cell_type": "markdown",
   "metadata": {},
   "source": [
    "Ordered from here"
   ]
  },
  {
   "cell_type": "code",
   "execution_count": 124,
   "metadata": {},
   "outputs": [],
   "source": [
    "import pandas as pd\n",
    "info_books = pd.read_csv('good_books_10k/good_books_long.csv')"
   ]
  },
  {
   "cell_type": "code",
   "execution_count": 125,
   "metadata": {},
   "outputs": [],
   "source": [
    "def check_alphabet(text):\n",
    "    try:\n",
    "        return text[0][0] in 'abcdefghijklmnopqrstuvwxyz'.upper()\n",
    "    except:\n",
    "        return False"
   ]
  },
  {
   "cell_type": "code",
   "execution_count": 126,
   "metadata": {},
   "outputs": [],
   "source": [
    "info_books['check_alphabet'] = info_books['description'].apply(lambda x: check_alphabet(x))"
   ]
  },
  {
   "cell_type": "code",
   "execution_count": 127,
   "metadata": {},
   "outputs": [],
   "source": [
    "info_books = info_books[info_books['check_alphabet'] == True]"
   ]
  },
  {
   "cell_type": "code",
   "execution_count": 128,
   "metadata": {},
   "outputs": [],
   "source": [
    "def check_alternate(text):\n",
    "    return text.split(' ')[:3] == ['Alternate', 'Cover', 'Edition']"
   ]
  },
  {
   "cell_type": "code",
   "execution_count": 129,
   "metadata": {},
   "outputs": [],
   "source": [
    "info_books['check_alternate'] = info_books['description'].apply(lambda x: check_alternate(x))\n",
    "info_books = info_books[info_books['check_alternate'] == False]"
   ]
  },
  {
   "cell_type": "code",
   "execution_count": 130,
   "metadata": {},
   "outputs": [],
   "source": [
    "info_books['description'] = info_books['description'].apply(lambda x: clean_cover_isbn(x))\n",
    "info_books['description'] = info_books['description'].apply(lambda x: clean_html(x))\n",
    "info_books['description'] = info_books['description'].apply(lambda x: clean_punctuations(x))"
   ]
  },
  {
   "cell_type": "code",
   "execution_count": 131,
   "metadata": {},
   "outputs": [
    {
     "data": {
      "text/html": [
       "<div>\n",
       "<style scoped>\n",
       "    .dataframe tbody tr th:only-of-type {\n",
       "        vertical-align: middle;\n",
       "    }\n",
       "\n",
       "    .dataframe tbody tr th {\n",
       "        vertical-align: top;\n",
       "    }\n",
       "\n",
       "    .dataframe thead th {\n",
       "        text-align: right;\n",
       "    }\n",
       "</style>\n",
       "<table border=\"1\" class=\"dataframe\">\n",
       "  <thead>\n",
       "    <tr style=\"text-align: right;\">\n",
       "      <th></th>\n",
       "      <th>goodreads_book_id</th>\n",
       "      <th>authors</th>\n",
       "      <th>original_publication_year</th>\n",
       "      <th>original_title</th>\n",
       "      <th>average_rating</th>\n",
       "      <th>ratings_1</th>\n",
       "      <th>ratings_2</th>\n",
       "      <th>ratings_3</th>\n",
       "      <th>ratings_4</th>\n",
       "      <th>ratings_5</th>\n",
       "      <th>description</th>\n",
       "      <th>check_alphabet</th>\n",
       "      <th>check_alternate</th>\n",
       "    </tr>\n",
       "  </thead>\n",
       "  <tbody>\n",
       "    <tr>\n",
       "      <th>0</th>\n",
       "      <td>2767052</td>\n",
       "      <td>Suzanne Collins</td>\n",
       "      <td>2008.0</td>\n",
       "      <td>The Hunger Games</td>\n",
       "      <td>4.34</td>\n",
       "      <td>66715</td>\n",
       "      <td>127936</td>\n",
       "      <td>560092</td>\n",
       "      <td>1481305</td>\n",
       "      <td>2706317</td>\n",
       "      <td>In the ruins of a place once known as North Am...</td>\n",
       "      <td>True</td>\n",
       "      <td>False</td>\n",
       "    </tr>\n",
       "    <tr>\n",
       "      <th>1</th>\n",
       "      <td>3</td>\n",
       "      <td>J.K. Rowling, Mary GrandPré</td>\n",
       "      <td>1997.0</td>\n",
       "      <td>Harry Potter and the Philosopher's Stone</td>\n",
       "      <td>4.44</td>\n",
       "      <td>75504</td>\n",
       "      <td>101676</td>\n",
       "      <td>455024</td>\n",
       "      <td>1156318</td>\n",
       "      <td>3011543</td>\n",
       "      <td>After a lifetime of bottling up his magical po...</td>\n",
       "      <td>True</td>\n",
       "      <td>False</td>\n",
       "    </tr>\n",
       "    <tr>\n",
       "      <th>3</th>\n",
       "      <td>2657</td>\n",
       "      <td>Harper Lee</td>\n",
       "      <td>1960.0</td>\n",
       "      <td>To Kill a Mockingbird</td>\n",
       "      <td>4.25</td>\n",
       "      <td>60427</td>\n",
       "      <td>117415</td>\n",
       "      <td>446835</td>\n",
       "      <td>1001952</td>\n",
       "      <td>1714267</td>\n",
       "      <td>Compassionate dramatic and deeply moving To Ki...</td>\n",
       "      <td>True</td>\n",
       "      <td>False</td>\n",
       "    </tr>\n",
       "    <tr>\n",
       "      <th>5</th>\n",
       "      <td>11870085</td>\n",
       "      <td>John Green</td>\n",
       "      <td>2012.0</td>\n",
       "      <td>The Fault in Our Stars</td>\n",
       "      <td>4.26</td>\n",
       "      <td>47994</td>\n",
       "      <td>92723</td>\n",
       "      <td>327550</td>\n",
       "      <td>698471</td>\n",
       "      <td>1311871</td>\n",
       "      <td>Insightful bold irreverent and raw The Fault i...</td>\n",
       "      <td>True</td>\n",
       "      <td>False</td>\n",
       "    </tr>\n",
       "    <tr>\n",
       "      <th>7</th>\n",
       "      <td>5107</td>\n",
       "      <td>J.D. Salinger</td>\n",
       "      <td>1951.0</td>\n",
       "      <td>The Catcher in the Rye</td>\n",
       "      <td>3.79</td>\n",
       "      <td>109383</td>\n",
       "      <td>185520</td>\n",
       "      <td>455042</td>\n",
       "      <td>661516</td>\n",
       "      <td>709176</td>\n",
       "      <td>JD Salingers classic novel of teenage angst an...</td>\n",
       "      <td>True</td>\n",
       "      <td>False</td>\n",
       "    </tr>\n",
       "  </tbody>\n",
       "</table>\n",
       "</div>"
      ],
      "text/plain": [
       "   goodreads_book_id                      authors  original_publication_year  \\\n",
       "0            2767052              Suzanne Collins                     2008.0   \n",
       "1                  3  J.K. Rowling, Mary GrandPré                     1997.0   \n",
       "3               2657                   Harper Lee                     1960.0   \n",
       "5           11870085                   John Green                     2012.0   \n",
       "7               5107                J.D. Salinger                     1951.0   \n",
       "\n",
       "                             original_title  average_rating  ratings_1  \\\n",
       "0                          The Hunger Games            4.34      66715   \n",
       "1  Harry Potter and the Philosopher's Stone            4.44      75504   \n",
       "3                     To Kill a Mockingbird            4.25      60427   \n",
       "5                    The Fault in Our Stars            4.26      47994   \n",
       "7                    The Catcher in the Rye            3.79     109383   \n",
       "\n",
       "   ratings_2  ratings_3  ratings_4  ratings_5  \\\n",
       "0     127936     560092    1481305    2706317   \n",
       "1     101676     455024    1156318    3011543   \n",
       "3     117415     446835    1001952    1714267   \n",
       "5      92723     327550     698471    1311871   \n",
       "7     185520     455042     661516     709176   \n",
       "\n",
       "                                         description  check_alphabet  \\\n",
       "0  In the ruins of a place once known as North Am...            True   \n",
       "1  After a lifetime of bottling up his magical po...            True   \n",
       "3  Compassionate dramatic and deeply moving To Ki...            True   \n",
       "5  Insightful bold irreverent and raw The Fault i...            True   \n",
       "7  JD Salingers classic novel of teenage angst an...            True   \n",
       "\n",
       "   check_alternate  \n",
       "0            False  \n",
       "1            False  \n",
       "3            False  \n",
       "5            False  \n",
       "7            False  "
      ]
     },
     "execution_count": 131,
     "metadata": {},
     "output_type": "execute_result"
    }
   ],
   "source": [
    "info_books.head()"
   ]
  },
  {
   "cell_type": "code",
   "execution_count": 88,
   "metadata": {},
   "outputs": [],
   "source": [
    "import nltk\n",
    "from nltk.tokenize import word_tokenize"
   ]
  },
  {
   "cell_type": "code",
   "execution_count": 136,
   "metadata": {},
   "outputs": [],
   "source": [
    "def get_tokens(text):\n",
    "    return word_tokenize(text)"
   ]
  },
  {
   "cell_type": "code",
   "execution_count": 137,
   "metadata": {},
   "outputs": [],
   "source": [
    "info_books['description'] = info_books['description'].apply(lambda x: get_tokens(x))"
   ]
  },
  {
   "cell_type": "code",
   "execution_count": 103,
   "metadata": {},
   "outputs": [],
   "source": [
    "from nltk.corpus import stopwords\n",
    "stop_words = stopwords.words('english')"
   ]
  },
  {
   "cell_type": "code",
   "execution_count": 139,
   "metadata": {},
   "outputs": [],
   "source": [
    "def clean_stop_words(text):\n",
    "    return [word for word in text if word not in stop_words]"
   ]
  },
  {
   "cell_type": "code",
   "execution_count": 140,
   "metadata": {},
   "outputs": [],
   "source": [
    "info_books['description'] = info_books['description'].apply(lambda x: clean_stop_words(x))"
   ]
  },
  {
   "cell_type": "code",
   "execution_count": 142,
   "metadata": {},
   "outputs": [
    {
     "data": {
      "text/html": [
       "<div>\n",
       "<style scoped>\n",
       "    .dataframe tbody tr th:only-of-type {\n",
       "        vertical-align: middle;\n",
       "    }\n",
       "\n",
       "    .dataframe tbody tr th {\n",
       "        vertical-align: top;\n",
       "    }\n",
       "\n",
       "    .dataframe thead th {\n",
       "        text-align: right;\n",
       "    }\n",
       "</style>\n",
       "<table border=\"1\" class=\"dataframe\">\n",
       "  <thead>\n",
       "    <tr style=\"text-align: right;\">\n",
       "      <th></th>\n",
       "      <th>goodreads_book_id</th>\n",
       "      <th>authors</th>\n",
       "      <th>original_publication_year</th>\n",
       "      <th>original_title</th>\n",
       "      <th>average_rating</th>\n",
       "      <th>ratings_1</th>\n",
       "      <th>ratings_2</th>\n",
       "      <th>ratings_3</th>\n",
       "      <th>ratings_4</th>\n",
       "      <th>ratings_5</th>\n",
       "      <th>description</th>\n",
       "      <th>check_alphabet</th>\n",
       "      <th>check_alternate</th>\n",
       "    </tr>\n",
       "  </thead>\n",
       "  <tbody>\n",
       "    <tr>\n",
       "      <th>0</th>\n",
       "      <td>2767052</td>\n",
       "      <td>Suzanne Collins</td>\n",
       "      <td>2008.0</td>\n",
       "      <td>The Hunger Games</td>\n",
       "      <td>4.34</td>\n",
       "      <td>66715</td>\n",
       "      <td>127936</td>\n",
       "      <td>560092</td>\n",
       "      <td>1481305</td>\n",
       "      <td>2706317</td>\n",
       "      <td>[In, ruins, place, known, North, America, lies...</td>\n",
       "      <td>True</td>\n",
       "      <td>False</td>\n",
       "    </tr>\n",
       "    <tr>\n",
       "      <th>1</th>\n",
       "      <td>3</td>\n",
       "      <td>J.K. Rowling, Mary GrandPré</td>\n",
       "      <td>1997.0</td>\n",
       "      <td>Harry Potter and the Philosopher's Stone</td>\n",
       "      <td>4.44</td>\n",
       "      <td>75504</td>\n",
       "      <td>101676</td>\n",
       "      <td>455024</td>\n",
       "      <td>1156318</td>\n",
       "      <td>3011543</td>\n",
       "      <td>[After, lifetime, bottling, magical, powers, H...</td>\n",
       "      <td>True</td>\n",
       "      <td>False</td>\n",
       "    </tr>\n",
       "    <tr>\n",
       "      <th>3</th>\n",
       "      <td>2657</td>\n",
       "      <td>Harper Lee</td>\n",
       "      <td>1960.0</td>\n",
       "      <td>To Kill a Mockingbird</td>\n",
       "      <td>4.25</td>\n",
       "      <td>60427</td>\n",
       "      <td>117415</td>\n",
       "      <td>446835</td>\n",
       "      <td>1001952</td>\n",
       "      <td>1714267</td>\n",
       "      <td>[Compassionate, dramatic, deeply, moving, To, ...</td>\n",
       "      <td>True</td>\n",
       "      <td>False</td>\n",
       "    </tr>\n",
       "    <tr>\n",
       "      <th>5</th>\n",
       "      <td>11870085</td>\n",
       "      <td>John Green</td>\n",
       "      <td>2012.0</td>\n",
       "      <td>The Fault in Our Stars</td>\n",
       "      <td>4.26</td>\n",
       "      <td>47994</td>\n",
       "      <td>92723</td>\n",
       "      <td>327550</td>\n",
       "      <td>698471</td>\n",
       "      <td>1311871</td>\n",
       "      <td>[Insightful, bold, irreverent, raw, The, Fault...</td>\n",
       "      <td>True</td>\n",
       "      <td>False</td>\n",
       "    </tr>\n",
       "    <tr>\n",
       "      <th>7</th>\n",
       "      <td>5107</td>\n",
       "      <td>J.D. Salinger</td>\n",
       "      <td>1951.0</td>\n",
       "      <td>The Catcher in the Rye</td>\n",
       "      <td>3.79</td>\n",
       "      <td>109383</td>\n",
       "      <td>185520</td>\n",
       "      <td>455042</td>\n",
       "      <td>661516</td>\n",
       "      <td>709176</td>\n",
       "      <td>[JD, Salingers, classic, novel, teenage, angst...</td>\n",
       "      <td>True</td>\n",
       "      <td>False</td>\n",
       "    </tr>\n",
       "  </tbody>\n",
       "</table>\n",
       "</div>"
      ],
      "text/plain": [
       "   goodreads_book_id                      authors  original_publication_year  \\\n",
       "0            2767052              Suzanne Collins                     2008.0   \n",
       "1                  3  J.K. Rowling, Mary GrandPré                     1997.0   \n",
       "3               2657                   Harper Lee                     1960.0   \n",
       "5           11870085                   John Green                     2012.0   \n",
       "7               5107                J.D. Salinger                     1951.0   \n",
       "\n",
       "                             original_title  average_rating  ratings_1  \\\n",
       "0                          The Hunger Games            4.34      66715   \n",
       "1  Harry Potter and the Philosopher's Stone            4.44      75504   \n",
       "3                     To Kill a Mockingbird            4.25      60427   \n",
       "5                    The Fault in Our Stars            4.26      47994   \n",
       "7                    The Catcher in the Rye            3.79     109383   \n",
       "\n",
       "   ratings_2  ratings_3  ratings_4  ratings_5  \\\n",
       "0     127936     560092    1481305    2706317   \n",
       "1     101676     455024    1156318    3011543   \n",
       "3     117415     446835    1001952    1714267   \n",
       "5      92723     327550     698471    1311871   \n",
       "7     185520     455042     661516     709176   \n",
       "\n",
       "                                         description  check_alphabet  \\\n",
       "0  [In, ruins, place, known, North, America, lies...            True   \n",
       "1  [After, lifetime, bottling, magical, powers, H...            True   \n",
       "3  [Compassionate, dramatic, deeply, moving, To, ...            True   \n",
       "5  [Insightful, bold, irreverent, raw, The, Fault...            True   \n",
       "7  [JD, Salingers, classic, novel, teenage, angst...            True   \n",
       "\n",
       "   check_alternate  \n",
       "0            False  \n",
       "1            False  \n",
       "3            False  \n",
       "5            False  \n",
       "7            False  "
      ]
     },
     "execution_count": 142,
     "metadata": {},
     "output_type": "execute_result"
    }
   ],
   "source": [
    "info_books.head()"
   ]
  },
  {
   "cell_type": "code",
   "execution_count": 145,
   "metadata": {},
   "outputs": [],
   "source": [
    "info_books.to_csv('good_books_10k/good_books_en.csv', index = False)"
   ]
  },
  {
   "cell_type": "code",
   "execution_count": 144,
   "metadata": {},
   "outputs": [
    {
     "data": {
      "text/plain": [
       "(7346, 13)"
      ]
     },
     "execution_count": 144,
     "metadata": {},
     "output_type": "execute_result"
    }
   ],
   "source": [
    "info_books.shape"
   ]
  }
 ],
 "metadata": {
  "colab": {
   "name": "good_books.ipynb",
   "provenance": []
  },
  "kernelspec": {
   "display_name": "Python 3",
   "language": "python",
   "name": "python3"
  },
  "language_info": {
   "codemirror_mode": {
    "name": "ipython",
    "version": 3
   },
   "file_extension": ".py",
   "mimetype": "text/x-python",
   "name": "python",
   "nbconvert_exporter": "python",
   "pygments_lexer": "ipython3",
   "version": "3.6.7"
  }
 },
 "nbformat": 4,
 "nbformat_minor": 1
}
