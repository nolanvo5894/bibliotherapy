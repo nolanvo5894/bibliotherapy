{
  "cells": [
    {
      "cell_type": "code",
      "source": [
        "from goodreads import client"
      ],
      "outputs": [],
      "execution_count": 1,
      "metadata": {}
    },
    {
      "cell_type": "code",
      "source": [
        "goodreads_key = 't6mIkabukH29jAey0381yA'\n",
        "goodreads_secret = '6IWvvO5CNFIAqUragee2Bb5HkEOvxIYqSXeXdFSHvM'\n",
        "g_client = client.GoodreadsClient(goodreads_key, goodreads_secret)"
      ],
      "outputs": [],
      "execution_count": 2,
      "metadata": {}
    },
    {
      "cell_type": "code",
      "source": [
        "book = g_client.book(8)"
      ],
      "outputs": [],
      "execution_count": 176,
      "metadata": {}
    },
    {
      "cell_type": "code",
      "source": [
        "features = ['title', 'authors', 'description', 'average_rating', 'rating_dist', 'ratings_count',\n",
        "           'publication_date', 'publisher']"
      ],
      "outputs": [],
      "execution_count": 136,
      "metadata": {}
    },
    {
      "cell_type": "code",
      "source": [
        "print(features)"
      ],
      "outputs": [
        {
          "output_type": "stream",
          "name": "stdout",
          "text": [
            "['title', 'authors', 'description', 'average_rating', 'rating_dist', 'ratings_count', 'publication_date', 'publisher']\n"
          ]
        }
      ],
      "execution_count": 137,
      "metadata": {}
    },
    {
      "cell_type": "code",
      "source": [
        "book_df = {}\n",
        "book_df['id'] = []\n",
        "# book_df['similar_books'] = []\n",
        "for i in range(len(features)):\n",
        "    book_df[features[i]] = []\n",
        "for book_id in range(1, 2500000):\n",
        "    try:\n",
        "        book = g_client.book(book_id)\n",
        "        book_df['id'].append(book_id)\n",
        "        for i in range(len(features)):\n",
        "            book_df[features[i]].append(getattr(book, features[i]))\n",
        "#         if book.similar_books:\n",
        "#             book_df['similar_books'].append(getattr(book, 'similar_books'))\n",
        "#         else:\n",
        "#             book_df['similar_books'].append([book_id])\n",
        "    except:\n",
        "        pass"
      ],
      "outputs": [],
      "execution_count": null,
      "metadata": {}
    },
    {
      "cell_type": "code",
      "source": [
        "book_dataframe = pd.DataFrame(book_df)"
      ],
      "outputs": [],
      "execution_count": null,
      "metadata": {}
    },
    {
      "cell_type": "code",
      "source": [
        "book_dataframe.head()"
      ],
      "outputs": [
        {
          "output_type": "execute_result",
          "execution_count": 174,
          "data": {
            "text/html": [
              "<div>\n",
              "<style scoped>\n",
              "    .dataframe tbody tr th:only-of-type {\n",
              "        vertical-align: middle;\n",
              "    }\n",
              "\n",
              "    .dataframe tbody tr th {\n",
              "        vertical-align: top;\n",
              "    }\n",
              "\n",
              "    .dataframe thead th {\n",
              "        text-align: right;\n",
              "    }\n",
              "</style>\n",
              "<table border=\"1\" class=\"dataframe\">\n",
              "  <thead>\n",
              "    <tr style=\"text-align: right;\">\n",
              "      <th></th>\n",
              "      <th>authors</th>\n",
              "      <th>average_rating</th>\n",
              "      <th>description</th>\n",
              "      <th>id</th>\n",
              "      <th>publication_date</th>\n",
              "      <th>publisher</th>\n",
              "      <th>rating_dist</th>\n",
              "      <th>ratings_count</th>\n",
              "      <th>title</th>\n",
              "    </tr>\n",
              "  </thead>\n",
              "  <tbody>\n",
              "    <tr>\n",
              "      <th>0</th>\n",
              "      <td>[J.K. Rowling, Mary GrandPré]</td>\n",
              "      <td>4.56</td>\n",
              "      <td>When Harry Potter and the Half-Blood Prince op...</td>\n",
              "      <td>1</td>\n",
              "      <td>(9, 16, 2006)</td>\n",
              "      <td>Scholastic Inc.</td>\n",
              "      <td>5:1432890|4:527939|3:152286|2:24045|1:8957|tot...</td>\n",
              "      <td>1993467</td>\n",
              "      <td>Harry Potter and the Half-Blood Prince (Harry ...</td>\n",
              "    </tr>\n",
              "    <tr>\n",
              "      <th>1</th>\n",
              "      <td>[J.K. Rowling, Mary GrandPré]</td>\n",
              "      <td>4.49</td>\n",
              "      <td>There is a door at the end of a silent corrido...</td>\n",
              "      <td>2</td>\n",
              "      <td>(9, 1, 2004)</td>\n",
              "      <td>Scholastic Inc.</td>\n",
              "      <td>5:1380668|4:571329|3:201490|2:35158|1:11240|to...</td>\n",
              "      <td>2046792</td>\n",
              "      <td>Harry Potter and the Order of the Phoenix (Har...</td>\n",
              "    </tr>\n",
              "    <tr>\n",
              "      <th>2</th>\n",
              "      <td>[J.K. Rowling, Mary GrandPré]</td>\n",
              "      <td>4.47</td>\n",
              "      <td>Harry Potter's life is miserable. His parents ...</td>\n",
              "      <td>3</td>\n",
              "      <td>(6, 26, 1997)</td>\n",
              "      <td>Scholastic Inc</td>\n",
              "      <td>5:3935819|4:1418967|3:537154|2:122596|1:98731|...</td>\n",
              "      <td>5809560</td>\n",
              "      <td>Harry Potter and the Sorcerer's Stone (Harry P...</td>\n",
              "    </tr>\n",
              "    <tr>\n",
              "      <th>3</th>\n",
              "      <td>[J.K. Rowling]</td>\n",
              "      <td>4.41</td>\n",
              "      <td>The Dursleys were so mean and hideous that sum...</td>\n",
              "      <td>4</td>\n",
              "      <td>(11, 1, 2003)</td>\n",
              "      <td>Scholastic</td>\n",
              "      <td>5:1370765|4:660114|3:274157|2:46932|1:10392|to...</td>\n",
              "      <td>6302</td>\n",
              "      <td>Harry Potter and the Chamber of Secrets (Harry...</td>\n",
              "    </tr>\n",
              "    <tr>\n",
              "      <th>4</th>\n",
              "      <td>[J.K. Rowling, Mary GrandPré]</td>\n",
              "      <td>4.56</td>\n",
              "      <td>Harry Potter's third year at Hogwarts is full ...</td>\n",
              "      <td>5</td>\n",
              "      <td>(5, 1, 2004)</td>\n",
              "      <td>Scholastic Inc.</td>\n",
              "      <td>5:1597228|4:593048|3:184927|2:23125|1:8578|tot...</td>\n",
              "      <td>2208929</td>\n",
              "      <td>Harry Potter and the Prisoner of Azkaban (Harr...</td>\n",
              "    </tr>\n",
              "  </tbody>\n",
              "</table>\n",
              "</div>"
            ],
            "text/plain": [
              "                         authors average_rating  \\\n",
              "0  [J.K. Rowling, Mary GrandPré]           4.56   \n",
              "1  [J.K. Rowling, Mary GrandPré]           4.49   \n",
              "2  [J.K. Rowling, Mary GrandPré]           4.47   \n",
              "3                 [J.K. Rowling]           4.41   \n",
              "4  [J.K. Rowling, Mary GrandPré]           4.56   \n",
              "\n",
              "                                         description  id publication_date  \\\n",
              "0  When Harry Potter and the Half-Blood Prince op...   1    (9, 16, 2006)   \n",
              "1  There is a door at the end of a silent corrido...   2     (9, 1, 2004)   \n",
              "2  Harry Potter's life is miserable. His parents ...   3    (6, 26, 1997)   \n",
              "3  The Dursleys were so mean and hideous that sum...   4    (11, 1, 2003)   \n",
              "4  Harry Potter's third year at Hogwarts is full ...   5     (5, 1, 2004)   \n",
              "\n",
              "         publisher                                        rating_dist  \\\n",
              "0  Scholastic Inc.  5:1432890|4:527939|3:152286|2:24045|1:8957|tot...   \n",
              "1  Scholastic Inc.  5:1380668|4:571329|3:201490|2:35158|1:11240|to...   \n",
              "2   Scholastic Inc  5:3935819|4:1418967|3:537154|2:122596|1:98731|...   \n",
              "3       Scholastic  5:1370765|4:660114|3:274157|2:46932|1:10392|to...   \n",
              "4  Scholastic Inc.  5:1597228|4:593048|3:184927|2:23125|1:8578|tot...   \n",
              "\n",
              "  ratings_count                                              title  \n",
              "0       1993467  Harry Potter and the Half-Blood Prince (Harry ...  \n",
              "1       2046792  Harry Potter and the Order of the Phoenix (Har...  \n",
              "2       5809560  Harry Potter and the Sorcerer's Stone (Harry P...  \n",
              "3          6302  Harry Potter and the Chamber of Secrets (Harry...  \n",
              "4       2208929  Harry Potter and the Prisoner of Azkaban (Harr...  "
            ]
          },
          "metadata": {}
        }
      ],
      "execution_count": 174,
      "metadata": {}
    },
    {
      "cell_type": "code",
      "source": [],
      "outputs": [],
      "execution_count": null,
      "metadata": {}
    }
  ],
  "metadata": {
    "kernelspec": {
      "name": "python3",
      "language": "python",
      "display_name": "Python 3"
    },
    "language_info": {
      "name": "python",
      "version": "3.6.7",
      "mimetype": "text/x-python",
      "codemirror_mode": {
        "name": "ipython",
        "version": 3
      },
      "pygments_lexer": "ipython3",
      "nbconvert_exporter": "python",
      "file_extension": ".py"
    },
    "kernel_info": {
      "name": "python3"
    },
    "nteract": {
      "version": "0.12.3"
    }
  },
  "nbformat": 4,
  "nbformat_minor": 2
}