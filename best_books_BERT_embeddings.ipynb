{
 "cells": [
  {
   "cell_type": "code",
   "execution_count": 27,
   "metadata": {},
   "outputs": [],
   "source": [
    "import pandas as pd\n",
    "import numpy as np\n",
    "from bert_embedding import BertEmbedding"
   ]
  },
  {
   "cell_type": "code",
   "execution_count": 2,
   "metadata": {},
   "outputs": [
    {
     "name": "stdout",
     "output_type": "stream",
     "text": [
      "Vocab file is not found. Downloading.\n",
      "Downloading /Users/volam/.mxnet/models/book_corpus_wiki_en_uncased-a6607397.zip from https://apache-mxnet.s3-accelerate.dualstack.amazonaws.com/gluon/dataset/vocab/book_corpus_wiki_en_uncased-a6607397.zip...\n",
      "Downloading /Users/volam/.mxnet/models/bert_12_768_12_book_corpus_wiki_en_uncased-75cc780f.zip from https://apache-mxnet.s3-accelerate.dualstack.amazonaws.com/gluon/models/bert_12_768_12_book_corpus_wiki_en_uncased-75cc780f.zip...\n"
     ]
    }
   ],
   "source": [
    "embedding = BertEmbedding()\n",
    "sentence = ['hi', 'how', 'are', 'you', 'doing']\n",
    "output = embedding(sentence)"
   ]
  },
  {
   "cell_type": "code",
   "execution_count": 32,
   "metadata": {},
   "outputs": [],
   "source": [
    "def get_BERT_embeddings(summary):\n",
    "    try:\n",
    "        e_array = []\n",
    "        word_embeddings = embedding(summary)\n",
    "        for i in range(len(word_embeddings)):\n",
    "            e_array.append(word_embeddings[i][1][0])\n",
    "        summary_embedding = np.array(e_array).mean(axis = 0)\n",
    "        return summary_embedding\n",
    "    except:\n",
    "        return np.nan"
   ]
  },
  {
   "cell_type": "code",
   "execution_count": 31,
   "metadata": {},
   "outputs": [
    {
     "name": "stdout",
     "output_type": "stream",
     "text": [
      "(768,)\n"
     ]
    }
   ],
   "source": [
    "print(get_BERT_embeddings(sentence).shape)"
   ]
  },
  {
   "cell_type": "code",
   "execution_count": 16,
   "metadata": {},
   "outputs": [
    {
     "data": {
      "text/html": [
       "<div>\n",
       "<style scoped>\n",
       "    .dataframe tbody tr th:only-of-type {\n",
       "        vertical-align: middle;\n",
       "    }\n",
       "\n",
       "    .dataframe tbody tr th {\n",
       "        vertical-align: top;\n",
       "    }\n",
       "\n",
       "    .dataframe thead th {\n",
       "        text-align: right;\n",
       "    }\n",
       "</style>\n",
       "<table border=\"1\" class=\"dataframe\">\n",
       "  <thead>\n",
       "    <tr style=\"text-align: right;\">\n",
       "      <th></th>\n",
       "      <th>book_id</th>\n",
       "      <th>title</th>\n",
       "      <th>authors</th>\n",
       "      <th>description</th>\n",
       "      <th>average_rating</th>\n",
       "      <th>rating_dist</th>\n",
       "      <th>ratings_count</th>\n",
       "      <th>publication_date</th>\n",
       "      <th>publisher</th>\n",
       "      <th>check_alphabet</th>\n",
       "      <th>check_alternate</th>\n",
       "      <th>vector_description</th>\n",
       "      <th>cluster</th>\n",
       "    </tr>\n",
       "  </thead>\n",
       "  <tbody>\n",
       "    <tr>\n",
       "      <td>0</td>\n",
       "      <td>2767052</td>\n",
       "      <td>The Hunger Games (The Hunger Games, #1)</td>\n",
       "      <td>[Suzanne Collins]</td>\n",
       "      <td>['In', 'ruins', 'place', 'known', 'North', 'Am...</td>\n",
       "      <td>4.33</td>\n",
       "      <td>5:3147328|4:1755372|3:677503|2:155622|1:82192|...</td>\n",
       "      <td>5610547</td>\n",
       "      <td>('9', '14', '2008')</td>\n",
       "      <td>Scholastic Press</td>\n",
       "      <td>True</td>\n",
       "      <td>False</td>\n",
       "      <td>[ 1.652681    0.20952849 -0.86027026  0.129425...</td>\n",
       "      <td>2</td>\n",
       "    </tr>\n",
       "    <tr>\n",
       "      <td>1</td>\n",
       "      <td>2</td>\n",
       "      <td>Harry Potter and the Order of the Phoenix (Har...</td>\n",
       "      <td>[J.K. Rowling, Mary GrandPré]</td>\n",
       "      <td>['Harry', 'lot', 'mind', 'fifth', 'year', 'Hog...</td>\n",
       "      <td>4.49</td>\n",
       "      <td>5:1383724|4:572285|3:201775|2:35188|1:11259|to...</td>\n",
       "      <td>2050571</td>\n",
       "      <td>('9', '1', '2004')</td>\n",
       "      <td>Scholastic Inc.</td>\n",
       "      <td>True</td>\n",
       "      <td>False</td>\n",
       "      <td>[ 1.221313    0.3676932  -0.44352835  0.086147...</td>\n",
       "      <td>2</td>\n",
       "    </tr>\n",
       "    <tr>\n",
       "      <td>2</td>\n",
       "      <td>2657</td>\n",
       "      <td>To Kill a Mockingbird (To Kill a Mockingbird, #1)</td>\n",
       "      <td>[Harper Lee]</td>\n",
       "      <td>['Compassionate', 'dramatic', 'deeply', 'movin...</td>\n",
       "      <td>4.27</td>\n",
       "      <td>5:2099792|4:1198789|3:521455|2:136908|1:72133|...</td>\n",
       "      <td>3840621</td>\n",
       "      <td>('5', '23', '2006')</td>\n",
       "      <td>Harper Perennial Modern Classics</td>\n",
       "      <td>True</td>\n",
       "      <td>False</td>\n",
       "      <td>[ 1.1900413   0.04988475 -0.84511966  0.40277 ...</td>\n",
       "      <td>0</td>\n",
       "    </tr>\n",
       "    <tr>\n",
       "      <td>3</td>\n",
       "      <td>1885</td>\n",
       "      <td>Pride and Prejudice</td>\n",
       "      <td>[Jane Austen, Anna Quindlen]</td>\n",
       "      <td>['Since', 'immediate', 'success', '1813', 'Pri...</td>\n",
       "      <td>4.25</td>\n",
       "      <td>5:1411008|4:726173|3:334977|2:102109|1:66772|t...</td>\n",
       "      <td>2433246</td>\n",
       "      <td>('10', '10', '2000')</td>\n",
       "      <td>Modern Library</td>\n",
       "      <td>True</td>\n",
       "      <td>False</td>\n",
       "      <td>[ 1.0052938   0.48644283 -0.46211335 -0.274609...</td>\n",
       "      <td>0</td>\n",
       "    </tr>\n",
       "    <tr>\n",
       "      <td>4</td>\n",
       "      <td>41865</td>\n",
       "      <td>Twilight (Twilight, #1)</td>\n",
       "      <td>[Stephenie Meyer]</td>\n",
       "      <td>['First', 'Edward', 'vampire']</td>\n",
       "      <td>3.59</td>\n",
       "      <td>5:1575937|4:1008263|3:913735|2:496513|1:508478...</td>\n",
       "      <td>4437283</td>\n",
       "      <td>('9', '6', '2006')</td>\n",
       "      <td>Little, Brown and Company</td>\n",
       "      <td>True</td>\n",
       "      <td>False</td>\n",
       "      <td>[ 0.71836996  0.37861207  0.05439107 -1.979011...</td>\n",
       "      <td>6</td>\n",
       "    </tr>\n",
       "  </tbody>\n",
       "</table>\n",
       "</div>"
      ],
      "text/plain": [
       "   book_id                                              title  \\\n",
       "0  2767052            The Hunger Games (The Hunger Games, #1)   \n",
       "1        2  Harry Potter and the Order of the Phoenix (Har...   \n",
       "2     2657  To Kill a Mockingbird (To Kill a Mockingbird, #1)   \n",
       "3     1885                                Pride and Prejudice   \n",
       "4    41865                            Twilight (Twilight, #1)   \n",
       "\n",
       "                         authors  \\\n",
       "0              [Suzanne Collins]   \n",
       "1  [J.K. Rowling, Mary GrandPré]   \n",
       "2                   [Harper Lee]   \n",
       "3   [Jane Austen, Anna Quindlen]   \n",
       "4              [Stephenie Meyer]   \n",
       "\n",
       "                                         description  average_rating  \\\n",
       "0  ['In', 'ruins', 'place', 'known', 'North', 'Am...            4.33   \n",
       "1  ['Harry', 'lot', 'mind', 'fifth', 'year', 'Hog...            4.49   \n",
       "2  ['Compassionate', 'dramatic', 'deeply', 'movin...            4.27   \n",
       "3  ['Since', 'immediate', 'success', '1813', 'Pri...            4.25   \n",
       "4                     ['First', 'Edward', 'vampire']            3.59   \n",
       "\n",
       "                                         rating_dist  ratings_count  \\\n",
       "0  5:3147328|4:1755372|3:677503|2:155622|1:82192|...        5610547   \n",
       "1  5:1383724|4:572285|3:201775|2:35188|1:11259|to...        2050571   \n",
       "2  5:2099792|4:1198789|3:521455|2:136908|1:72133|...        3840621   \n",
       "3  5:1411008|4:726173|3:334977|2:102109|1:66772|t...        2433246   \n",
       "4  5:1575937|4:1008263|3:913735|2:496513|1:508478...        4437283   \n",
       "\n",
       "       publication_date                         publisher  check_alphabet  \\\n",
       "0   ('9', '14', '2008')                  Scholastic Press            True   \n",
       "1    ('9', '1', '2004')                   Scholastic Inc.            True   \n",
       "2   ('5', '23', '2006')  Harper Perennial Modern Classics            True   \n",
       "3  ('10', '10', '2000')                    Modern Library            True   \n",
       "4    ('9', '6', '2006')         Little, Brown and Company            True   \n",
       "\n",
       "   check_alternate                                 vector_description  cluster  \n",
       "0            False  [ 1.652681    0.20952849 -0.86027026  0.129425...        2  \n",
       "1            False  [ 1.221313    0.3676932  -0.44352835  0.086147...        2  \n",
       "2            False  [ 1.1900413   0.04988475 -0.84511966  0.40277 ...        0  \n",
       "3            False  [ 1.0052938   0.48644283 -0.46211335 -0.274609...        0  \n",
       "4            False  [ 0.71836996  0.37861207  0.05439107 -1.979011...        6  "
      ]
     },
     "execution_count": 16,
     "metadata": {},
     "output_type": "execute_result"
    }
   ],
   "source": [
    "books = pd.read_csv('best_books_clustered.csv')\n",
    "books.head()"
   ]
  },
  {
   "cell_type": "code",
   "execution_count": null,
   "metadata": {},
   "outputs": [],
   "source": [
    "books['BERT_embedding'] = books['description'].apply(lambda x: get_BERT_embeddings(x))"
   ]
  },
  {
   "cell_type": "code",
   "execution_count": null,
   "metadata": {},
   "outputs": [],
   "source": []
  }
 ],
 "metadata": {
  "kernelspec": {
   "display_name": "Python 3",
   "language": "python",
   "name": "python3"
  },
  "language_info": {
   "codemirror_mode": {
    "name": "ipython",
    "version": 3
   },
   "file_extension": ".py",
   "mimetype": "text/x-python",
   "name": "python",
   "nbconvert_exporter": "python",
   "pygments_lexer": "ipython3",
   "version": "3.7.4"
  }
 },
 "nbformat": 4,
 "nbformat_minor": 2
}
